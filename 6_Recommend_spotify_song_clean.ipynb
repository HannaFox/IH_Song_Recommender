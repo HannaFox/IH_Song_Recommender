{
 "cells": [
  {
   "cell_type": "markdown",
   "metadata": {},
   "source": [
    "# Function for song recommender"
   ]
  },
  {
   "cell_type": "code",
   "execution_count": 6,
   "metadata": {},
   "outputs": [],
   "source": [
    "import pandas as pd\n",
    "import random\n",
    "import numpy as np\n",
    "import config\n",
    "import spotipy\n",
    "import json\n",
    "from spotipy.oauth2 import SpotifyClientCredentials\n",
    "import pprint\n",
    "import pandas as pd\n",
    "from IPython.display import IFrame\n",
    "import pickle # importing pre-saved model from 4_K-Means_Clustering file"
   ]
  },
  {
   "cell_type": "code",
   "execution_count": 29,
   "metadata": {},
   "outputs": [],
   "source": [
    "# Initialize SpotiPy with user credentials\n",
    "sp = spotipy.Spotify(auth_manager=SpotifyClientCredentials(client_id= config.client_id,\n",
    "                                                           client_secret= config.client_secret))\n",
    "\n",
    "def load(filename = \"filename.pickle\"): \n",
    "    try: \n",
    "        with open(filename, \"rb\") as f: \n",
    "            return pickle.load(f) \n",
    "        \n",
    "    except FileNotFoundError: \n",
    "        print(\"File not found!\") \n",
    "\n",
    "HotSongs = pd.read_csv(\"HotSongs.csv\")\n",
    "X = pd.read_csv(\"audio-features.csv\")\n",
    "kmeans = load(filename=\"kmeans_8.pickle\")\n",
    "scaler = load(filename=\"scaler.pickle\")\n",
    "\n",
    "\n",
    "\n"
   ]
  },
  {
   "cell_type": "code",
   "execution_count": 45,
   "metadata": {},
   "outputs": [],
   "source": [
    "def song_recommender():\n",
    "    song_input = input(\"What song did you like listening to recently the most: \")\n",
    "    if song_input in HotSongs[\"song\"].values:\n",
    "        cpu_song = random.choice(HotSongs[\"song\"].values)\n",
    "        print(\"Nice! You will probably love listening to this popular song as well: \",cpu_song)\n",
    "\n",
    "    else:\n",
    "        results = sp.search(q = song_input, type=\"track\", limit=10)\n",
    "        for i, item in enumerate(results[\"tracks\"][\"items\"]):\n",
    "            play_user_song =  play_song(item[\"id\"])\n",
    "            display(play_user_song)\n",
    "            right_song = input(\"Is this the song you meant? (y/n): \")\n",
    "            while right_song != \"y\" and right_song != \"n\":\n",
    "                right_song = input(\"You can only enter 'y' or 'n': \")\n",
    "            if right_song == \"y\":\n",
    "                right_song = track_id\n",
    "                features = sp.audio_features(right_song)[0]\n",
    "                input_song = pd.DataFrame([features]).select_dtypes(np.number).drop([\"key\",\"mode\",\"time_signature\"],axis=1)\n",
    "                input_song_num = input_song.select_dtypes(np.number)\n",
    "                input_song_sc = scaler.transform(input_song_num)\n",
    "                song_trans_df = pd.DataFrame(input_song_sc, columns = X_clean.columns)\n",
    "                input_song_cluster = kmeans.predict(song_trans_df)[0]\n",
    "                rec_song = X[X[\"cluster\"] == input_song_cluster].sample()\n",
    "                rec_song_id = rec_song[\"id\"].iat[0]\n",
    "                break\n",
    "        else:\n",
    "            print(\"Does your song even exist? WTF\")\n",
    "    return play_song(rec_song_id)  \n",
    "\n",
    "\n",
    "\n",
    "# get cluster of song using KMeans model\n",
    "# get a random song recommendation from the same cluster\n",
    "\n",
    "    \n",
    "# get_audio_feature function needs to return a pd dataframe\n",
    "# pickle (which is my pre-saved model) can apply its functions eg. transform only on a dataframe\n",
    "# song that i want to predict my cluster for only needs to be transformed not fitted!!\n",
    "# get_audio_feature function needs to return a pd dataframe\n",
    "# pickle (which is my pre-saved model) can apply its functions eg. transform only on a dataframe\n",
    "# song that i want to predict my cluster for only needs to be transformed not fitted!!"
   ]
  },
  {
   "cell_type": "code",
   "execution_count": 46,
   "metadata": {},
   "outputs": [
    {
     "name": "stdout",
     "output_type": "stream",
     "text": [
      "What song did you like listening to recently the most: franci\n"
     ]
    },
    {
     "data": {
      "text/html": [
       "\n",
       "        <iframe\n",
       "            width=\"320\"\n",
       "            height=\"80\"\n",
       "            src=\"https://open.spotify.com/embed/track/5411TEB6tlzvuF5A4oyldr?frameborder=0&allowtransparency=true&allow=encrypted-media\"\n",
       "            frameborder=\"0\"\n",
       "            allowfullscreen\n",
       "            \n",
       "        ></iframe>\n",
       "        "
      ],
      "text/plain": [
       "<IPython.lib.display.IFrame at 0x2c7d10f7a00>"
      ]
     },
     "metadata": {},
     "output_type": "display_data"
    },
    {
     "name": "stdout",
     "output_type": "stream",
     "text": [
      "Is this the song you meant? (y/n): y\n"
     ]
    },
    {
     "data": {
      "text/html": [
       "\n",
       "        <iframe\n",
       "            width=\"320\"\n",
       "            height=\"80\"\n",
       "            src=\"https://open.spotify.com/embed/track/75JUFOP8s5yiOYcHmJjccP?frameborder=0&allowtransparency=true&allow=encrypted-media\"\n",
       "            frameborder=\"0\"\n",
       "            allowfullscreen\n",
       "            \n",
       "        ></iframe>\n",
       "        "
      ],
      "text/plain": [
       "<IPython.lib.display.IFrame at 0x2c7d10f7820>"
      ]
     },
     "execution_count": 46,
     "metadata": {},
     "output_type": "execute_result"
    }
   ],
   "source": [
    "song_recommender()"
   ]
  }
 ],
 "metadata": {
  "colab": {
   "name": "Web Scraping Code Along - Structure.ipynb",
   "provenance": []
  },
  "kernelspec": {
   "display_name": "Python 3 (ipykernel)",
   "language": "python",
   "name": "python3"
  },
  "language_info": {
   "codemirror_mode": {
    "name": "ipython",
    "version": 3
   },
   "file_extension": ".py",
   "mimetype": "text/x-python",
   "name": "python",
   "nbconvert_exporter": "python",
   "pygments_lexer": "ipython3",
   "version": "3.9.13"
  }
 },
 "nbformat": 4,
 "nbformat_minor": 1
}
