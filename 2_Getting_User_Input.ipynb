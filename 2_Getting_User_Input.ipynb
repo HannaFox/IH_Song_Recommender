{
 "cells": [
  {
   "cell_type": "markdown",
   "metadata": {},
   "source": [
    "# Getting user's input"
   ]
  },
  {
   "cell_type": "markdown",
   "metadata": {},
   "source": [
    "#### Importing HotSongs"
   ]
  },
  {
   "cell_type": "code",
   "execution_count": 1,
   "metadata": {},
   "outputs": [
    {
     "data": {
      "text/html": [
       "<div>\n",
       "<style scoped>\n",
       "    .dataframe tbody tr th:only-of-type {\n",
       "        vertical-align: middle;\n",
       "    }\n",
       "\n",
       "    .dataframe tbody tr th {\n",
       "        vertical-align: top;\n",
       "    }\n",
       "\n",
       "    .dataframe thead th {\n",
       "        text-align: right;\n",
       "    }\n",
       "</style>\n",
       "<table border=\"1\" class=\"dataframe\">\n",
       "  <thead>\n",
       "    <tr style=\"text-align: right;\">\n",
       "      <th></th>\n",
       "      <th>song</th>\n",
       "      <th>artist</th>\n",
       "    </tr>\n",
       "  </thead>\n",
       "  <tbody>\n",
       "    <tr>\n",
       "      <th>0</th>\n",
       "      <td>flowers</td>\n",
       "      <td>miley cyrus</td>\n",
       "    </tr>\n",
       "    <tr>\n",
       "      <th>1</th>\n",
       "      <td>kill bill</td>\n",
       "      <td>sza</td>\n",
       "    </tr>\n",
       "    <tr>\n",
       "      <th>2</th>\n",
       "      <td>last night</td>\n",
       "      <td>morgan wallen</td>\n",
       "    </tr>\n",
       "    <tr>\n",
       "      <th>3</th>\n",
       "      <td>unholy</td>\n",
       "      <td>sam smith &amp; kim petras</td>\n",
       "    </tr>\n",
       "    <tr>\n",
       "      <th>4</th>\n",
       "      <td>creepin'</td>\n",
       "      <td>metro boomin, the weeknd &amp; 21 savage</td>\n",
       "    </tr>\n",
       "    <tr>\n",
       "      <th>...</th>\n",
       "      <td>...</td>\n",
       "      <td>...</td>\n",
       "    </tr>\n",
       "    <tr>\n",
       "      <th>95</th>\n",
       "      <td>yandel 150</td>\n",
       "      <td>yandel &amp; feid</td>\n",
       "    </tr>\n",
       "    <tr>\n",
       "      <th>96</th>\n",
       "      <td>heart to heart</td>\n",
       "      <td>mac demarco</td>\n",
       "    </tr>\n",
       "    <tr>\n",
       "      <th>97</th>\n",
       "      <td>next thing you know</td>\n",
       "      <td>jordan davis</td>\n",
       "    </tr>\n",
       "    <tr>\n",
       "      <th>98</th>\n",
       "      <td>never gonna not dance again</td>\n",
       "      <td>p!nk</td>\n",
       "    </tr>\n",
       "    <tr>\n",
       "      <th>99</th>\n",
       "      <td>open arms</td>\n",
       "      <td>sza featuring travis scott</td>\n",
       "    </tr>\n",
       "  </tbody>\n",
       "</table>\n",
       "<p>100 rows × 2 columns</p>\n",
       "</div>"
      ],
      "text/plain": [
       "                           song                                artist\n",
       "0                       flowers                           miley cyrus\n",
       "1                     kill bill                                   sza\n",
       "2                    last night                         morgan wallen\n",
       "3                        unholy                sam smith & kim petras\n",
       "4                      creepin'  metro boomin, the weeknd & 21 savage\n",
       "..                          ...                                   ...\n",
       "95                   yandel 150                         yandel & feid\n",
       "96               heart to heart                           mac demarco\n",
       "97          next thing you know                          jordan davis\n",
       "98  never gonna not dance again                                  p!nk\n",
       "99                    open arms            sza featuring travis scott\n",
       "\n",
       "[100 rows x 2 columns]"
      ]
     },
     "execution_count": 1,
     "metadata": {},
     "output_type": "execute_result"
    }
   ],
   "source": [
    "import pandas as pd\n",
    "import random\n",
    "HotSongs = pd.read_csv(\"HotSongs.csv\")\n",
    "HotSongs\n"
   ]
  },
  {
   "cell_type": "code",
   "execution_count": 2,
   "metadata": {},
   "outputs": [],
   "source": [
    "HotSongs = HotSongs[\"song\"].tolist()"
   ]
  },
  {
   "cell_type": "code",
   "execution_count": 3,
   "metadata": {},
   "outputs": [
    {
     "data": {
      "text/plain": [
       "['flowers',\n",
       " 'kill bill',\n",
       " 'last night',\n",
       " 'unholy',\n",
       " \"creepin'\",\n",
       " 'cuff it',\n",
       " 'anti-hero',\n",
       " 'die for you',\n",
       " \"i'm good (blue)\",\n",
       " 'as it was',\n",
       " 'rich flex',\n",
       " 'just wanna rock',\n",
       " 'thought you should know',\n",
       " \"boy's a liar, pt. 2\",\n",
       " 'made you look',\n",
       " 'under the influence',\n",
       " 'golden hour',\n",
       " 'you proof',\n",
       " 'rock and a hard place',\n",
       " 'something in the orange',\n",
       " 'thank god',\n",
       " 'bad habit',\n",
       " 'going, going, gone',\n",
       " 'escapism',\n",
       " 'superhero (heroes & villains)',\n",
       " 'lavender haze',\n",
       " 'calm down',\n",
       " 'players',\n",
       " 'shirt',\n",
       " 'sure thing',\n",
       " 'the kind of love we make',\n",
       " 'heart like a truck',\n",
       " 'bzrp music sessions, vol. 53',\n",
       " 'snooze',\n",
       " 'until i found you',\n",
       " 'wait for u',\n",
       " 'i like you (a happier song)',\n",
       " 'i wrote the book',\n",
       " 'bebe dame',\n",
       " 'tomorrow 2',\n",
       " 'about damn time',\n",
       " 'wait in the truck',\n",
       " 'she had me at heads carolina',\n",
       " 'nobody gets me',\n",
       " 'what my world spins around',\n",
       " 'unstoppable',\n",
       " 'one thing at a time',\n",
       " 'whiskey on you',\n",
       " 'dawns',\n",
       " 'love again',\n",
       " 'everything i love',\n",
       " 'lift me up',\n",
       " 'que vuelvas',\n",
       " 'low',\n",
       " 'tennessee orange',\n",
       " 'x si volvemos',\n",
       " 'bloody mary',\n",
       " 'handle on you',\n",
       " \"what he didn't do\",\n",
       " 'freestyle',\n",
       " 'wild as her',\n",
       " 'spin bout u',\n",
       " \"you didn't\",\n",
       " \"growin' up and gettin' old\",\n",
       " 'nonsense',\n",
       " 'here with me',\n",
       " 'the color violet',\n",
       " 'amg',\n",
       " '10:35',\n",
       " 'la bachata',\n",
       " 'forget me',\n",
       " 'shut up my moms calling',\n",
       " 'blind',\n",
       " 'omg',\n",
       " 'no se va',\n",
       " 'love you better',\n",
       " 'la jumpa',\n",
       " 'prc',\n",
       " \"that's what tequila does\",\n",
       " 'love language',\n",
       " 'tennessee fan',\n",
       " 'ditto',\n",
       " 'watch the world burn',\n",
       " 'human',\n",
       " 'in ha mood',\n",
       " 'back end',\n",
       " 'do it again',\n",
       " 'hey mor',\n",
       " 'too many nights',\n",
       " 'ghost in the machine',\n",
       " 'fin de semana',\n",
       " 'snap',\n",
       " 'california breeze',\n",
       " \"i'm not here to make friends\",\n",
       " 'gato de noche',\n",
       " 'yandel 150',\n",
       " 'heart to heart',\n",
       " 'next thing you know',\n",
       " 'never gonna not dance again',\n",
       " 'open arms']"
      ]
     },
     "execution_count": 3,
     "metadata": {},
     "output_type": "execute_result"
    }
   ],
   "source": [
    "HotSongs"
   ]
  },
  {
   "cell_type": "markdown",
   "metadata": {},
   "source": [
    "#### Asking the user for his song: code needs to be robust in case of typos and multiple songs can have the same name"
   ]
  },
  {
   "cell_type": "code",
   "execution_count": 16,
   "metadata": {},
   "outputs": [],
   "source": [
    "def check_HotSongs():\n",
    "    song_input = input(\"What song did you like listening to recently the most: \").lower()\n",
    "    artist_input = input(\"Who is the artist of that song: \").lower()\n",
    "    if song_input in HotSongs:\n",
    "        #ask if it is the artist\n",
    "        while True:\n",
    "            cpu_song = random.choice(HotSongs)\n",
    "            if song_input != cpu_song:\n",
    "                print(\"You should check out: \",cpu_song)\n",
    "                break           \n",
    "    else:\n",
    "        print(\"Your song is not popular.\")\n"
   ]
  },
  {
   "cell_type": "code",
   "execution_count": 17,
   "metadata": {},
   "outputs": [
    {
     "name": "stdout",
     "output_type": "stream",
     "text": [
      "What song did you like listening to recently the most: flowers\n",
      "Who is the artist of that song: df\n",
      "You should check out:  the kind of love we make\n"
     ]
    }
   ],
   "source": [
    "check_HotSongs()"
   ]
  },
  {
   "cell_type": "code",
   "execution_count": null,
   "metadata": {},
   "outputs": [],
   "source": [
    "#from difflib get_close_match"
   ]
  },
  {
   "cell_type": "code",
   "execution_count": null,
   "metadata": {},
   "outputs": [],
   "source": [
    "check_HotSongs()"
   ]
  },
  {
   "cell_type": "code",
   "execution_count": null,
   "metadata": {},
   "outputs": [],
   "source": [
    "def input_vals():\n",
    "    \"\"\"asking for user's input of song while making sure the input is correct and specific to a result (artist)\"\"\"\n",
    "    song_input = input(\"What song did you like listening to recently the most: \").lower()\n",
    "    artist_input = input(\"Who is the artist of that song: \").lower()\n",
    "    return song_input, artist_input"
   ]
  },
  {
   "cell_type": "code",
   "execution_count": null,
   "metadata": {},
   "outputs": [],
   "source": [
    "# calling function and storing result of user in main! so that it can be accesed by other functions\n",
    "# if this is not done user input is only stored locally in the function\n",
    "chosen_song, chosen_artist = input_vals()"
   ]
  },
  {
   "cell_type": "code",
   "execution_count": null,
   "metadata": {},
   "outputs": [],
   "source": [
    "chosen_song"
   ]
  },
  {
   "cell_type": "code",
   "execution_count": null,
   "metadata": {},
   "outputs": [],
   "source": [
    "chosen_artist"
   ]
  },
  {
   "cell_type": "code",
   "execution_count": null,
   "metadata": {},
   "outputs": [],
   "source": [
    "check_HotSongs()"
   ]
  },
  {
   "cell_type": "code",
   "execution_count": null,
   "metadata": {},
   "outputs": [],
   "source": [
    "def check_HotSongs():\n",
    "    \"\"\"checking if the user's song is featured in the HotSongs.csv file\"\"\"\n",
    "    if chosen_song in HotSongs:\n",
    "        print(\"You should check out: \",random.choice(HotSongs))       \n",
    "    else:\n",
    "        print(\"This song is not in the top 100 songs list\")\n",
    "\n",
    "\n",
    "\n",
    "            "
   ]
  },
  {
   "cell_type": "code",
   "execution_count": null,
   "metadata": {},
   "outputs": [],
   "source": [
    "check_HotSongs()"
   ]
  },
  {
   "cell_type": "code",
   "execution_count": null,
   "metadata": {},
   "outputs": [],
   "source": [
    "##!pip install nltk\n",
    "import nltk"
   ]
  },
  {
   "cell_type": "raw",
   "metadata": {},
   "source": [
    "is this the song you meant? Play song embedded yes, no\n",
    "if no play next song with same name\n",
    "\n",
    "sp.search is this the song? yes\n",
    "track_id -> get audio features\n",
    "-> scaler.fit /scaler.transform whole df audio features\n",
    "then K-Means.predict -> random song from same cluster, or most similar song\n",
    "\n"
   ]
  },
  {
   "cell_type": "code",
   "execution_count": null,
   "metadata": {},
   "outputs": [],
   "source": [
    "chosen_artist"
   ]
  },
  {
   "cell_type": "code",
   "execution_count": null,
   "metadata": {},
   "outputs": [],
   "source": [
    "check_HotSongs()"
   ]
  },
  {
   "cell_type": "markdown",
   "metadata": {},
   "source": [
    "User experience:\n",
    "\n",
    "What happens if the user inputs a song that doesn't exist?\n",
    "What do we do with songs that have the same name, but a different artist?\n",
    "How do we deal with typos?\n",
    "Architecture:\n",
    "\n",
    "Do we build the interaction with the user in the same notebook as the web-scraping?\n",
    "Where do we store the scraped songs?\n",
    "Testing:\n",
    "\n",
    "Does it work when you test it with a real user (a colleague)?\n",
    "Chances are that more issues will appear, and that not all of them will be solved during this session. But what's important is that the issues have been identified.\n",
    "\n",
    "Optional\n",
    "Expand the project\n",
    "If you're done, you can try to expand the project on your own. Here are a few suggestions:\n",
    "\n",
    "Find other lists of hot songs on the internet and scrape them too: having a bigger pool of songs will be awesome!\n",
    "Wikipedia maintains a large collection of lists of songs: https://en.wikipedia.org/wiki/Lists_of_songs"
   ]
  }
 ],
 "metadata": {
  "colab": {
   "name": "Web Scraping Code Along - Structure.ipynb",
   "provenance": []
  },
  "kernelspec": {
   "display_name": "Python 3 (ipykernel)",
   "language": "python",
   "name": "python3"
  },
  "language_info": {
   "codemirror_mode": {
    "name": "ipython",
    "version": 3
   },
   "file_extension": ".py",
   "mimetype": "text/x-python",
   "name": "python",
   "nbconvert_exporter": "python",
   "pygments_lexer": "ipython3",
   "version": "3.9.13"
  }
 },
 "nbformat": 4,
 "nbformat_minor": 1
}
