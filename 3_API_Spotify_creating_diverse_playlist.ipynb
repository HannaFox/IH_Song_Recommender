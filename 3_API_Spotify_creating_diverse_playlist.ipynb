{
 "cells": [
  {
   "cell_type": "markdown",
   "metadata": {
    "id": "fnhh4ayEOKz4"
   },
   "source": [
    "#### Loading credentials from another config file"
   ]
  },
  {
   "cell_type": "code",
   "execution_count": 11,
   "metadata": {
    "ExecuteTime": {
     "end_time": "2022-11-23T08:53:19.773334Z",
     "start_time": "2022-11-23T08:53:19.511876Z"
    },
    "colab": {
     "base_uri": "https://localhost:8080/"
    },
    "executionInfo": {
     "elapsed": 23559,
     "status": "ok",
     "timestamp": 1623745938174,
     "user": {
      "displayName": "Ignacio Soteras",
      "photoUrl": "",
      "userId": "02050793736257155229"
     },
     "user_tz": -120
    },
    "id": "5j1kqPOoN_I5",
    "outputId": "23c4b5dd-b94b-425d-e2b9-e5647cb055df"
   },
   "outputs": [],
   "source": [
    "import config"
   ]
  },
  {
   "cell_type": "markdown",
   "metadata": {
    "id": "0fpGWmsCOSx0"
   },
   "source": [
    "#### Starting with Spotify API called Spotipy"
   ]
  },
  {
   "cell_type": "code",
   "execution_count": 12,
   "metadata": {
    "ExecuteTime": {
     "end_time": "2022-11-23T08:53:27.060562Z",
     "start_time": "2022-11-23T08:53:26.974725Z"
    },
    "colab": {
     "base_uri": "https://localhost:8080/"
    },
    "executionInfo": {
     "elapsed": 313,
     "status": "ok",
     "timestamp": 1623747121467,
     "user": {
      "displayName": "Ignacio Soteras",
      "photoUrl": "",
      "userId": "02050793736257155229"
     },
     "user_tz": -120
    },
    "id": "-0qiqFTZqqE2",
    "outputId": "c532baae-8ff5-4abc-b70e-0bda934d25b1",
    "scrolled": false
   },
   "outputs": [],
   "source": [
    "import spotipy\n",
    "import json\n",
    "from spotipy.oauth2 import SpotifyClientCredentials\n",
    "import random\n",
    "import pprint\n",
    "import pandas as pd\n",
    "\n",
    "# Initialize SpotiPy with user credentias\n",
    "sp = spotipy.Spotify(auth_manager=SpotifyClientCredentials(client_id= config.client_id,\n",
    "                                                           client_secret= config.client_secret, requests_timeout=20))"
   ]
  },
  {
   "cell_type": "code",
   "execution_count": 13,
   "metadata": {},
   "outputs": [],
   "source": [
    "# The \"sp\" variable has two useful funtions:\n",
    "# The first usefull function is:\n",
    "# .search(q='',limit=n)\n",
    "# .search(q=\"track:\"+song_name+\" artist:\"+artist_name,limit=5) to restrict to a song name and artist.\n",
    "# Where the \"q\" keyword is the query you want to perform on spotify: song_name, artist,...\n",
    "# while The \"limit\" keyword will limit the number of returned results.\n",
    "#\n",
    "# The second usefull function is:\n",
    "# .audio_features([URL|URI|ID])\n",
    "# which returns some 'features of the song', that after cleanup, we can use in order to characterize a song.\n",
    "\n",
    "##results = sp.search(q=\"Lose yourself\",limit=3,market=\"GB\")\n",
    "##results\n",
    "#json_results = json.dumps(results, ensure_ascii=True)\n",
    "#json_results\n",
    "#results['tracks']['items'][0]['external_urls'][\"spotify\"]"
   ]
  },
  {
   "cell_type": "markdown",
   "metadata": {
    "id": "8gIIuaAAIhQi"
   },
   "source": [
    "#### Extracting the songs of playlists on Spotify"
   ]
  },
  {
   "cell_type": "markdown",
   "metadata": {
    "id": "vmwZa11wjBM6"
   },
   "source": [
    "Pagination using \"next\"\n",
    "When you collect songs from a playlist using sp.playlist_tracks, you're limited by the limit parameter, which has a maximum (and default) value of 100. When the playlist has more than 100 songs, you have to collect them by navigating through the \"pages\" of the results.\n",
    "\n",
    "The parameter offset allows you to retrieve resuls starting at a certain position: if you start at position 101, you'd get the next \"page\" of results. An offset of 201 would give you the third page, and so on.\n",
    "\n",
    "The function sp.next() does the same, but in a simpler way: it can be used on the results from any request to directly retrieve the results for the next page.\n",
    "\n",
    "We can check whether there's a next page or not by accessing the key next on the results from any request."
   ]
  },
  {
   "cell_type": "markdown",
   "metadata": {},
   "source": [
    "#### Code runs below for getting unique 10.000 songs (1.000 per 10 music categories)"
   ]
  },
  {
   "cell_type": "code",
   "execution_count": 4,
   "metadata": {},
   "outputs": [],
   "source": [
    "#!pip install pandarallel"
   ]
  },
  {
   "cell_type": "code",
   "execution_count": 5,
   "metadata": {},
   "outputs": [
    {
     "name": "stdout",
     "output_type": "stream",
     "text": [
      "INFO: Pandarallel will run on 4 workers.\n",
      "INFO: Pandarallel will use standard multiprocessing data transfer (pipe) to transfer data between the main process and workers.\n",
      "\n",
      "WARNING: You are on Windows. If you detect any issue with pandarallel, be sure you checked out the Troubleshooting page:\n",
      "https://nalepae.github.io/pandarallel/troubleshooting/\n"
     ]
    },
    {
     "ename": "KeyboardInterrupt",
     "evalue": "",
     "output_type": "error",
     "traceback": [
      "\u001b[1;31m---------------------------------------------------------------------------\u001b[0m",
      "\u001b[1;31mKeyboardInterrupt\u001b[0m                         Traceback (most recent call last)",
      "\u001b[1;32m~\\AppData\\Local\\Temp\\ipykernel_14960\\908928722.py\u001b[0m in \u001b[0;36m<module>\u001b[1;34m\u001b[0m\n\u001b[0;32m     30\u001b[0m         \u001b[1;32mif\u001b[0m \u001b[0mlen\u001b[0m\u001b[1;33m(\u001b[0m\u001b[0mtrack_ids\u001b[0m\u001b[1;33m[\u001b[0m\u001b[0mgenre\u001b[0m\u001b[1;33m]\u001b[0m\u001b[1;33m)\u001b[0m \u001b[1;33m>=\u001b[0m \u001b[0mnum_tracks\u001b[0m\u001b[1;33m:\u001b[0m\u001b[1;33m\u001b[0m\u001b[1;33m\u001b[0m\u001b[0m\n\u001b[0;32m     31\u001b[0m             \u001b[1;32mbreak\u001b[0m\u001b[1;33m\u001b[0m\u001b[1;33m\u001b[0m\u001b[0m\n\u001b[1;32m---> 32\u001b[1;33m         \u001b[0mplaylist_tracks\u001b[0m \u001b[1;33m=\u001b[0m \u001b[0msp\u001b[0m\u001b[1;33m.\u001b[0m\u001b[0mplaylist_tracks\u001b[0m\u001b[1;33m(\u001b[0m\u001b[0mplaylist_id\u001b[0m\u001b[1;33m,\u001b[0m \u001b[0mfields\u001b[0m\u001b[1;33m=\u001b[0m\u001b[1;34m\"items(track(id))\"\u001b[0m\u001b[1;33m,\u001b[0m \u001b[0mlimit\u001b[0m\u001b[1;33m=\u001b[0m\u001b[1;36m100\u001b[0m\u001b[1;33m)\u001b[0m\u001b[1;33m\u001b[0m\u001b[1;33m\u001b[0m\u001b[0m\n\u001b[0m\u001b[0;32m     33\u001b[0m         \u001b[1;32mfor\u001b[0m \u001b[0mtrack\u001b[0m \u001b[1;32min\u001b[0m \u001b[0mplaylist_tracks\u001b[0m\u001b[1;33m[\u001b[0m\u001b[1;34m\"items\"\u001b[0m\u001b[1;33m]\u001b[0m\u001b[1;33m:\u001b[0m\u001b[1;33m\u001b[0m\u001b[1;33m\u001b[0m\u001b[0m\n\u001b[0;32m     34\u001b[0m             \u001b[1;32mif\u001b[0m \u001b[0mlen\u001b[0m\u001b[1;33m(\u001b[0m\u001b[0mtrack_ids\u001b[0m\u001b[1;33m[\u001b[0m\u001b[0mgenre\u001b[0m\u001b[1;33m]\u001b[0m\u001b[1;33m)\u001b[0m \u001b[1;33m>=\u001b[0m \u001b[0mnum_tracks\u001b[0m\u001b[1;33m:\u001b[0m\u001b[1;33m\u001b[0m\u001b[1;33m\u001b[0m\u001b[0m\n",
      "\u001b[1;32m~\\anaconda3\\lib\\site-packages\\spotipy\\client.py\u001b[0m in \u001b[0;36mplaylist_tracks\u001b[1;34m(self, playlist_id, fields, limit, offset, market, additional_types)\u001b[0m\n\u001b[0;32m    679\u001b[0m             \u001b[0mDeprecationWarning\u001b[0m\u001b[1;33m,\u001b[0m\u001b[1;33m\u001b[0m\u001b[1;33m\u001b[0m\u001b[0m\n\u001b[0;32m    680\u001b[0m         )\n\u001b[1;32m--> 681\u001b[1;33m         return self.playlist_items(playlist_id, fields, limit, offset,\n\u001b[0m\u001b[0;32m    682\u001b[0m                                    market, additional_types)\n\u001b[0;32m    683\u001b[0m \u001b[1;33m\u001b[0m\u001b[0m\n",
      "\u001b[1;32m~\\anaconda3\\lib\\site-packages\\spotipy\\client.py\u001b[0m in \u001b[0;36mplaylist_items\u001b[1;34m(self, playlist_id, fields, limit, offset, market, additional_types)\u001b[0m\n\u001b[0;32m    703\u001b[0m         \"\"\"\n\u001b[0;32m    704\u001b[0m         \u001b[0mplid\u001b[0m \u001b[1;33m=\u001b[0m \u001b[0mself\u001b[0m\u001b[1;33m.\u001b[0m\u001b[0m_get_id\u001b[0m\u001b[1;33m(\u001b[0m\u001b[1;34m\"playlist\"\u001b[0m\u001b[1;33m,\u001b[0m \u001b[0mplaylist_id\u001b[0m\u001b[1;33m)\u001b[0m\u001b[1;33m\u001b[0m\u001b[1;33m\u001b[0m\u001b[0m\n\u001b[1;32m--> 705\u001b[1;33m         return self._get(\n\u001b[0m\u001b[0;32m    706\u001b[0m             \u001b[1;34m\"playlists/%s/tracks\"\u001b[0m \u001b[1;33m%\u001b[0m \u001b[1;33m(\u001b[0m\u001b[0mplid\u001b[0m\u001b[1;33m)\u001b[0m\u001b[1;33m,\u001b[0m\u001b[1;33m\u001b[0m\u001b[1;33m\u001b[0m\u001b[0m\n\u001b[0;32m    707\u001b[0m             \u001b[0mlimit\u001b[0m\u001b[1;33m=\u001b[0m\u001b[0mlimit\u001b[0m\u001b[1;33m,\u001b[0m\u001b[1;33m\u001b[0m\u001b[1;33m\u001b[0m\u001b[0m\n",
      "\u001b[1;32m~\\anaconda3\\lib\\site-packages\\spotipy\\client.py\u001b[0m in \u001b[0;36m_get\u001b[1;34m(self, url, args, payload, **kwargs)\u001b[0m\n\u001b[0;32m    319\u001b[0m             \u001b[0mkwargs\u001b[0m\u001b[1;33m.\u001b[0m\u001b[0mupdate\u001b[0m\u001b[1;33m(\u001b[0m\u001b[0margs\u001b[0m\u001b[1;33m)\u001b[0m\u001b[1;33m\u001b[0m\u001b[1;33m\u001b[0m\u001b[0m\n\u001b[0;32m    320\u001b[0m \u001b[1;33m\u001b[0m\u001b[0m\n\u001b[1;32m--> 321\u001b[1;33m         \u001b[1;32mreturn\u001b[0m \u001b[0mself\u001b[0m\u001b[1;33m.\u001b[0m\u001b[0m_internal_call\u001b[0m\u001b[1;33m(\u001b[0m\u001b[1;34m\"GET\"\u001b[0m\u001b[1;33m,\u001b[0m \u001b[0murl\u001b[0m\u001b[1;33m,\u001b[0m \u001b[0mpayload\u001b[0m\u001b[1;33m,\u001b[0m \u001b[0mkwargs\u001b[0m\u001b[1;33m)\u001b[0m\u001b[1;33m\u001b[0m\u001b[1;33m\u001b[0m\u001b[0m\n\u001b[0m\u001b[0;32m    322\u001b[0m \u001b[1;33m\u001b[0m\u001b[0m\n\u001b[0;32m    323\u001b[0m     \u001b[1;32mdef\u001b[0m \u001b[0m_post\u001b[0m\u001b[1;33m(\u001b[0m\u001b[0mself\u001b[0m\u001b[1;33m,\u001b[0m \u001b[0murl\u001b[0m\u001b[1;33m,\u001b[0m \u001b[0margs\u001b[0m\u001b[1;33m=\u001b[0m\u001b[1;32mNone\u001b[0m\u001b[1;33m,\u001b[0m \u001b[0mpayload\u001b[0m\u001b[1;33m=\u001b[0m\u001b[1;32mNone\u001b[0m\u001b[1;33m,\u001b[0m \u001b[1;33m**\u001b[0m\u001b[0mkwargs\u001b[0m\u001b[1;33m)\u001b[0m\u001b[1;33m:\u001b[0m\u001b[1;33m\u001b[0m\u001b[1;33m\u001b[0m\u001b[0m\n",
      "\u001b[1;32m~\\anaconda3\\lib\\site-packages\\spotipy\\client.py\u001b[0m in \u001b[0;36m_internal_call\u001b[1;34m(self, method, url, payload, params)\u001b[0m\n\u001b[0;32m    262\u001b[0m \u001b[1;33m\u001b[0m\u001b[0m\n\u001b[0;32m    263\u001b[0m         \u001b[1;32mtry\u001b[0m\u001b[1;33m:\u001b[0m\u001b[1;33m\u001b[0m\u001b[1;33m\u001b[0m\u001b[0m\n\u001b[1;32m--> 264\u001b[1;33m             response = self._session.request(\n\u001b[0m\u001b[0;32m    265\u001b[0m                 \u001b[0mmethod\u001b[0m\u001b[1;33m,\u001b[0m \u001b[0murl\u001b[0m\u001b[1;33m,\u001b[0m \u001b[0mheaders\u001b[0m\u001b[1;33m=\u001b[0m\u001b[0mheaders\u001b[0m\u001b[1;33m,\u001b[0m \u001b[0mproxies\u001b[0m\u001b[1;33m=\u001b[0m\u001b[0mself\u001b[0m\u001b[1;33m.\u001b[0m\u001b[0mproxies\u001b[0m\u001b[1;33m,\u001b[0m\u001b[1;33m\u001b[0m\u001b[1;33m\u001b[0m\u001b[0m\n\u001b[0;32m    266\u001b[0m                 \u001b[0mtimeout\u001b[0m\u001b[1;33m=\u001b[0m\u001b[0mself\u001b[0m\u001b[1;33m.\u001b[0m\u001b[0mrequests_timeout\u001b[0m\u001b[1;33m,\u001b[0m \u001b[1;33m**\u001b[0m\u001b[0margs\u001b[0m\u001b[1;33m\u001b[0m\u001b[1;33m\u001b[0m\u001b[0m\n",
      "\u001b[1;32m~\\anaconda3\\lib\\site-packages\\requests\\sessions.py\u001b[0m in \u001b[0;36mrequest\u001b[1;34m(self, method, url, params, data, headers, cookies, files, auth, timeout, allow_redirects, proxies, hooks, stream, verify, cert, json)\u001b[0m\n\u001b[0;32m    585\u001b[0m         }\n\u001b[0;32m    586\u001b[0m         \u001b[0msend_kwargs\u001b[0m\u001b[1;33m.\u001b[0m\u001b[0mupdate\u001b[0m\u001b[1;33m(\u001b[0m\u001b[0msettings\u001b[0m\u001b[1;33m)\u001b[0m\u001b[1;33m\u001b[0m\u001b[1;33m\u001b[0m\u001b[0m\n\u001b[1;32m--> 587\u001b[1;33m         \u001b[0mresp\u001b[0m \u001b[1;33m=\u001b[0m \u001b[0mself\u001b[0m\u001b[1;33m.\u001b[0m\u001b[0msend\u001b[0m\u001b[1;33m(\u001b[0m\u001b[0mprep\u001b[0m\u001b[1;33m,\u001b[0m \u001b[1;33m**\u001b[0m\u001b[0msend_kwargs\u001b[0m\u001b[1;33m)\u001b[0m\u001b[1;33m\u001b[0m\u001b[1;33m\u001b[0m\u001b[0m\n\u001b[0m\u001b[0;32m    588\u001b[0m \u001b[1;33m\u001b[0m\u001b[0m\n\u001b[0;32m    589\u001b[0m         \u001b[1;32mreturn\u001b[0m \u001b[0mresp\u001b[0m\u001b[1;33m\u001b[0m\u001b[1;33m\u001b[0m\u001b[0m\n",
      "\u001b[1;32m~\\anaconda3\\lib\\site-packages\\requests\\sessions.py\u001b[0m in \u001b[0;36msend\u001b[1;34m(self, request, **kwargs)\u001b[0m\n\u001b[0;32m    699\u001b[0m \u001b[1;33m\u001b[0m\u001b[0m\n\u001b[0;32m    700\u001b[0m         \u001b[1;31m# Send the request\u001b[0m\u001b[1;33m\u001b[0m\u001b[1;33m\u001b[0m\u001b[0m\n\u001b[1;32m--> 701\u001b[1;33m         \u001b[0mr\u001b[0m \u001b[1;33m=\u001b[0m \u001b[0madapter\u001b[0m\u001b[1;33m.\u001b[0m\u001b[0msend\u001b[0m\u001b[1;33m(\u001b[0m\u001b[0mrequest\u001b[0m\u001b[1;33m,\u001b[0m \u001b[1;33m**\u001b[0m\u001b[0mkwargs\u001b[0m\u001b[1;33m)\u001b[0m\u001b[1;33m\u001b[0m\u001b[1;33m\u001b[0m\u001b[0m\n\u001b[0m\u001b[0;32m    702\u001b[0m \u001b[1;33m\u001b[0m\u001b[0m\n\u001b[0;32m    703\u001b[0m         \u001b[1;31m# Total elapsed time of the request (approximately)\u001b[0m\u001b[1;33m\u001b[0m\u001b[1;33m\u001b[0m\u001b[0m\n",
      "\u001b[1;32m~\\anaconda3\\lib\\site-packages\\requests\\adapters.py\u001b[0m in \u001b[0;36msend\u001b[1;34m(self, request, stream, timeout, verify, cert, proxies)\u001b[0m\n\u001b[0;32m    487\u001b[0m         \u001b[1;32mtry\u001b[0m\u001b[1;33m:\u001b[0m\u001b[1;33m\u001b[0m\u001b[1;33m\u001b[0m\u001b[0m\n\u001b[0;32m    488\u001b[0m             \u001b[1;32mif\u001b[0m \u001b[1;32mnot\u001b[0m \u001b[0mchunked\u001b[0m\u001b[1;33m:\u001b[0m\u001b[1;33m\u001b[0m\u001b[1;33m\u001b[0m\u001b[0m\n\u001b[1;32m--> 489\u001b[1;33m                 resp = conn.urlopen(\n\u001b[0m\u001b[0;32m    490\u001b[0m                     \u001b[0mmethod\u001b[0m\u001b[1;33m=\u001b[0m\u001b[0mrequest\u001b[0m\u001b[1;33m.\u001b[0m\u001b[0mmethod\u001b[0m\u001b[1;33m,\u001b[0m\u001b[1;33m\u001b[0m\u001b[1;33m\u001b[0m\u001b[0m\n\u001b[0;32m    491\u001b[0m                     \u001b[0murl\u001b[0m\u001b[1;33m=\u001b[0m\u001b[0murl\u001b[0m\u001b[1;33m,\u001b[0m\u001b[1;33m\u001b[0m\u001b[1;33m\u001b[0m\u001b[0m\n",
      "\u001b[1;32m~\\anaconda3\\lib\\site-packages\\urllib3\\connectionpool.py\u001b[0m in \u001b[0;36murlopen\u001b[1;34m(self, method, url, body, headers, retries, redirect, assert_same_host, timeout, pool_timeout, release_conn, chunked, body_pos, **response_kw)\u001b[0m\n\u001b[0;32m    701\u001b[0m \u001b[1;33m\u001b[0m\u001b[0m\n\u001b[0;32m    702\u001b[0m             \u001b[1;31m# Make the request on the httplib connection object.\u001b[0m\u001b[1;33m\u001b[0m\u001b[1;33m\u001b[0m\u001b[0m\n\u001b[1;32m--> 703\u001b[1;33m             httplib_response = self._make_request(\n\u001b[0m\u001b[0;32m    704\u001b[0m                 \u001b[0mconn\u001b[0m\u001b[1;33m,\u001b[0m\u001b[1;33m\u001b[0m\u001b[1;33m\u001b[0m\u001b[0m\n\u001b[0;32m    705\u001b[0m                 \u001b[0mmethod\u001b[0m\u001b[1;33m,\u001b[0m\u001b[1;33m\u001b[0m\u001b[1;33m\u001b[0m\u001b[0m\n",
      "\u001b[1;32m~\\anaconda3\\lib\\site-packages\\urllib3\\connectionpool.py\u001b[0m in \u001b[0;36m_make_request\u001b[1;34m(self, conn, method, url, timeout, chunked, **httplib_request_kw)\u001b[0m\n\u001b[0;32m    447\u001b[0m                     \u001b[1;31m# Python 3 (including for exceptions like SystemExit).\u001b[0m\u001b[1;33m\u001b[0m\u001b[1;33m\u001b[0m\u001b[0m\n\u001b[0;32m    448\u001b[0m                     \u001b[1;31m# Otherwise it looks like a bug in the code.\u001b[0m\u001b[1;33m\u001b[0m\u001b[1;33m\u001b[0m\u001b[0m\n\u001b[1;32m--> 449\u001b[1;33m                     \u001b[0msix\u001b[0m\u001b[1;33m.\u001b[0m\u001b[0mraise_from\u001b[0m\u001b[1;33m(\u001b[0m\u001b[0me\u001b[0m\u001b[1;33m,\u001b[0m \u001b[1;32mNone\u001b[0m\u001b[1;33m)\u001b[0m\u001b[1;33m\u001b[0m\u001b[1;33m\u001b[0m\u001b[0m\n\u001b[0m\u001b[0;32m    450\u001b[0m         \u001b[1;32mexcept\u001b[0m \u001b[1;33m(\u001b[0m\u001b[0mSocketTimeout\u001b[0m\u001b[1;33m,\u001b[0m \u001b[0mBaseSSLError\u001b[0m\u001b[1;33m,\u001b[0m \u001b[0mSocketError\u001b[0m\u001b[1;33m)\u001b[0m \u001b[1;32mas\u001b[0m \u001b[0me\u001b[0m\u001b[1;33m:\u001b[0m\u001b[1;33m\u001b[0m\u001b[1;33m\u001b[0m\u001b[0m\n\u001b[0;32m    451\u001b[0m             \u001b[0mself\u001b[0m\u001b[1;33m.\u001b[0m\u001b[0m_raise_timeout\u001b[0m\u001b[1;33m(\u001b[0m\u001b[0merr\u001b[0m\u001b[1;33m=\u001b[0m\u001b[0me\u001b[0m\u001b[1;33m,\u001b[0m \u001b[0murl\u001b[0m\u001b[1;33m=\u001b[0m\u001b[0murl\u001b[0m\u001b[1;33m,\u001b[0m \u001b[0mtimeout_value\u001b[0m\u001b[1;33m=\u001b[0m\u001b[0mread_timeout\u001b[0m\u001b[1;33m)\u001b[0m\u001b[1;33m\u001b[0m\u001b[1;33m\u001b[0m\u001b[0m\n",
      "\u001b[1;32m~\\anaconda3\\lib\\site-packages\\urllib3\\packages\\six.py\u001b[0m in \u001b[0;36mraise_from\u001b[1;34m(value, from_value)\u001b[0m\n",
      "\u001b[1;32m~\\anaconda3\\lib\\site-packages\\urllib3\\connectionpool.py\u001b[0m in \u001b[0;36m_make_request\u001b[1;34m(self, conn, method, url, timeout, chunked, **httplib_request_kw)\u001b[0m\n\u001b[0;32m    442\u001b[0m                 \u001b[1;31m# Python 3\u001b[0m\u001b[1;33m\u001b[0m\u001b[1;33m\u001b[0m\u001b[0m\n\u001b[0;32m    443\u001b[0m                 \u001b[1;32mtry\u001b[0m\u001b[1;33m:\u001b[0m\u001b[1;33m\u001b[0m\u001b[1;33m\u001b[0m\u001b[0m\n\u001b[1;32m--> 444\u001b[1;33m                     \u001b[0mhttplib_response\u001b[0m \u001b[1;33m=\u001b[0m \u001b[0mconn\u001b[0m\u001b[1;33m.\u001b[0m\u001b[0mgetresponse\u001b[0m\u001b[1;33m(\u001b[0m\u001b[1;33m)\u001b[0m\u001b[1;33m\u001b[0m\u001b[1;33m\u001b[0m\u001b[0m\n\u001b[0m\u001b[0;32m    445\u001b[0m                 \u001b[1;32mexcept\u001b[0m \u001b[0mBaseException\u001b[0m \u001b[1;32mas\u001b[0m \u001b[0me\u001b[0m\u001b[1;33m:\u001b[0m\u001b[1;33m\u001b[0m\u001b[1;33m\u001b[0m\u001b[0m\n\u001b[0;32m    446\u001b[0m                     \u001b[1;31m# Remove the TypeError from the exception chain in\u001b[0m\u001b[1;33m\u001b[0m\u001b[1;33m\u001b[0m\u001b[0m\n",
      "\u001b[1;32m~\\anaconda3\\lib\\http\\client.py\u001b[0m in \u001b[0;36mgetresponse\u001b[1;34m(self)\u001b[0m\n\u001b[0;32m   1375\u001b[0m         \u001b[1;32mtry\u001b[0m\u001b[1;33m:\u001b[0m\u001b[1;33m\u001b[0m\u001b[1;33m\u001b[0m\u001b[0m\n\u001b[0;32m   1376\u001b[0m             \u001b[1;32mtry\u001b[0m\u001b[1;33m:\u001b[0m\u001b[1;33m\u001b[0m\u001b[1;33m\u001b[0m\u001b[0m\n\u001b[1;32m-> 1377\u001b[1;33m                 \u001b[0mresponse\u001b[0m\u001b[1;33m.\u001b[0m\u001b[0mbegin\u001b[0m\u001b[1;33m(\u001b[0m\u001b[1;33m)\u001b[0m\u001b[1;33m\u001b[0m\u001b[1;33m\u001b[0m\u001b[0m\n\u001b[0m\u001b[0;32m   1378\u001b[0m             \u001b[1;32mexcept\u001b[0m \u001b[0mConnectionError\u001b[0m\u001b[1;33m:\u001b[0m\u001b[1;33m\u001b[0m\u001b[1;33m\u001b[0m\u001b[0m\n\u001b[0;32m   1379\u001b[0m                 \u001b[0mself\u001b[0m\u001b[1;33m.\u001b[0m\u001b[0mclose\u001b[0m\u001b[1;33m(\u001b[0m\u001b[1;33m)\u001b[0m\u001b[1;33m\u001b[0m\u001b[1;33m\u001b[0m\u001b[0m\n",
      "\u001b[1;32m~\\anaconda3\\lib\\http\\client.py\u001b[0m in \u001b[0;36mbegin\u001b[1;34m(self)\u001b[0m\n\u001b[0;32m    318\u001b[0m         \u001b[1;31m# read until we get a non-100 response\u001b[0m\u001b[1;33m\u001b[0m\u001b[1;33m\u001b[0m\u001b[0m\n\u001b[0;32m    319\u001b[0m         \u001b[1;32mwhile\u001b[0m \u001b[1;32mTrue\u001b[0m\u001b[1;33m:\u001b[0m\u001b[1;33m\u001b[0m\u001b[1;33m\u001b[0m\u001b[0m\n\u001b[1;32m--> 320\u001b[1;33m             \u001b[0mversion\u001b[0m\u001b[1;33m,\u001b[0m \u001b[0mstatus\u001b[0m\u001b[1;33m,\u001b[0m \u001b[0mreason\u001b[0m \u001b[1;33m=\u001b[0m \u001b[0mself\u001b[0m\u001b[1;33m.\u001b[0m\u001b[0m_read_status\u001b[0m\u001b[1;33m(\u001b[0m\u001b[1;33m)\u001b[0m\u001b[1;33m\u001b[0m\u001b[1;33m\u001b[0m\u001b[0m\n\u001b[0m\u001b[0;32m    321\u001b[0m             \u001b[1;32mif\u001b[0m \u001b[0mstatus\u001b[0m \u001b[1;33m!=\u001b[0m \u001b[0mCONTINUE\u001b[0m\u001b[1;33m:\u001b[0m\u001b[1;33m\u001b[0m\u001b[1;33m\u001b[0m\u001b[0m\n\u001b[0;32m    322\u001b[0m                 \u001b[1;32mbreak\u001b[0m\u001b[1;33m\u001b[0m\u001b[1;33m\u001b[0m\u001b[0m\n",
      "\u001b[1;32m~\\anaconda3\\lib\\http\\client.py\u001b[0m in \u001b[0;36m_read_status\u001b[1;34m(self)\u001b[0m\n\u001b[0;32m    279\u001b[0m \u001b[1;33m\u001b[0m\u001b[0m\n\u001b[0;32m    280\u001b[0m     \u001b[1;32mdef\u001b[0m \u001b[0m_read_status\u001b[0m\u001b[1;33m(\u001b[0m\u001b[0mself\u001b[0m\u001b[1;33m)\u001b[0m\u001b[1;33m:\u001b[0m\u001b[1;33m\u001b[0m\u001b[1;33m\u001b[0m\u001b[0m\n\u001b[1;32m--> 281\u001b[1;33m         \u001b[0mline\u001b[0m \u001b[1;33m=\u001b[0m \u001b[0mstr\u001b[0m\u001b[1;33m(\u001b[0m\u001b[0mself\u001b[0m\u001b[1;33m.\u001b[0m\u001b[0mfp\u001b[0m\u001b[1;33m.\u001b[0m\u001b[0mreadline\u001b[0m\u001b[1;33m(\u001b[0m\u001b[0m_MAXLINE\u001b[0m \u001b[1;33m+\u001b[0m \u001b[1;36m1\u001b[0m\u001b[1;33m)\u001b[0m\u001b[1;33m,\u001b[0m \u001b[1;34m\"iso-8859-1\"\u001b[0m\u001b[1;33m)\u001b[0m\u001b[1;33m\u001b[0m\u001b[1;33m\u001b[0m\u001b[0m\n\u001b[0m\u001b[0;32m    282\u001b[0m         \u001b[1;32mif\u001b[0m \u001b[0mlen\u001b[0m\u001b[1;33m(\u001b[0m\u001b[0mline\u001b[0m\u001b[1;33m)\u001b[0m \u001b[1;33m>\u001b[0m \u001b[0m_MAXLINE\u001b[0m\u001b[1;33m:\u001b[0m\u001b[1;33m\u001b[0m\u001b[1;33m\u001b[0m\u001b[0m\n\u001b[0;32m    283\u001b[0m             \u001b[1;32mraise\u001b[0m \u001b[0mLineTooLong\u001b[0m\u001b[1;33m(\u001b[0m\u001b[1;34m\"status line\"\u001b[0m\u001b[1;33m)\u001b[0m\u001b[1;33m\u001b[0m\u001b[1;33m\u001b[0m\u001b[0m\n",
      "\u001b[1;32m~\\anaconda3\\lib\\socket.py\u001b[0m in \u001b[0;36mreadinto\u001b[1;34m(self, b)\u001b[0m\n\u001b[0;32m    702\u001b[0m         \u001b[1;32mwhile\u001b[0m \u001b[1;32mTrue\u001b[0m\u001b[1;33m:\u001b[0m\u001b[1;33m\u001b[0m\u001b[1;33m\u001b[0m\u001b[0m\n\u001b[0;32m    703\u001b[0m             \u001b[1;32mtry\u001b[0m\u001b[1;33m:\u001b[0m\u001b[1;33m\u001b[0m\u001b[1;33m\u001b[0m\u001b[0m\n\u001b[1;32m--> 704\u001b[1;33m                 \u001b[1;32mreturn\u001b[0m \u001b[0mself\u001b[0m\u001b[1;33m.\u001b[0m\u001b[0m_sock\u001b[0m\u001b[1;33m.\u001b[0m\u001b[0mrecv_into\u001b[0m\u001b[1;33m(\u001b[0m\u001b[0mb\u001b[0m\u001b[1;33m)\u001b[0m\u001b[1;33m\u001b[0m\u001b[1;33m\u001b[0m\u001b[0m\n\u001b[0m\u001b[0;32m    705\u001b[0m             \u001b[1;32mexcept\u001b[0m \u001b[0mtimeout\u001b[0m\u001b[1;33m:\u001b[0m\u001b[1;33m\u001b[0m\u001b[1;33m\u001b[0m\u001b[0m\n\u001b[0;32m    706\u001b[0m                 \u001b[0mself\u001b[0m\u001b[1;33m.\u001b[0m\u001b[0m_timeout_occurred\u001b[0m \u001b[1;33m=\u001b[0m \u001b[1;32mTrue\u001b[0m\u001b[1;33m\u001b[0m\u001b[1;33m\u001b[0m\u001b[0m\n",
      "\u001b[1;32m~\\anaconda3\\lib\\ssl.py\u001b[0m in \u001b[0;36mrecv_into\u001b[1;34m(self, buffer, nbytes, flags)\u001b[0m\n\u001b[0;32m   1240\u001b[0m                   \u001b[1;34m\"non-zero flags not allowed in calls to recv_into() on %s\"\u001b[0m \u001b[1;33m%\u001b[0m\u001b[1;33m\u001b[0m\u001b[1;33m\u001b[0m\u001b[0m\n\u001b[0;32m   1241\u001b[0m                   self.__class__)\n\u001b[1;32m-> 1242\u001b[1;33m             \u001b[1;32mreturn\u001b[0m \u001b[0mself\u001b[0m\u001b[1;33m.\u001b[0m\u001b[0mread\u001b[0m\u001b[1;33m(\u001b[0m\u001b[0mnbytes\u001b[0m\u001b[1;33m,\u001b[0m \u001b[0mbuffer\u001b[0m\u001b[1;33m)\u001b[0m\u001b[1;33m\u001b[0m\u001b[1;33m\u001b[0m\u001b[0m\n\u001b[0m\u001b[0;32m   1243\u001b[0m         \u001b[1;32melse\u001b[0m\u001b[1;33m:\u001b[0m\u001b[1;33m\u001b[0m\u001b[1;33m\u001b[0m\u001b[0m\n\u001b[0;32m   1244\u001b[0m             \u001b[1;32mreturn\u001b[0m \u001b[0msuper\u001b[0m\u001b[1;33m(\u001b[0m\u001b[1;33m)\u001b[0m\u001b[1;33m.\u001b[0m\u001b[0mrecv_into\u001b[0m\u001b[1;33m(\u001b[0m\u001b[0mbuffer\u001b[0m\u001b[1;33m,\u001b[0m \u001b[0mnbytes\u001b[0m\u001b[1;33m,\u001b[0m \u001b[0mflags\u001b[0m\u001b[1;33m)\u001b[0m\u001b[1;33m\u001b[0m\u001b[1;33m\u001b[0m\u001b[0m\n",
      "\u001b[1;32m~\\anaconda3\\lib\\ssl.py\u001b[0m in \u001b[0;36mread\u001b[1;34m(self, len, buffer)\u001b[0m\n\u001b[0;32m   1098\u001b[0m         \u001b[1;32mtry\u001b[0m\u001b[1;33m:\u001b[0m\u001b[1;33m\u001b[0m\u001b[1;33m\u001b[0m\u001b[0m\n\u001b[0;32m   1099\u001b[0m             \u001b[1;32mif\u001b[0m \u001b[0mbuffer\u001b[0m \u001b[1;32mis\u001b[0m \u001b[1;32mnot\u001b[0m \u001b[1;32mNone\u001b[0m\u001b[1;33m:\u001b[0m\u001b[1;33m\u001b[0m\u001b[1;33m\u001b[0m\u001b[0m\n\u001b[1;32m-> 1100\u001b[1;33m                 \u001b[1;32mreturn\u001b[0m \u001b[0mself\u001b[0m\u001b[1;33m.\u001b[0m\u001b[0m_sslobj\u001b[0m\u001b[1;33m.\u001b[0m\u001b[0mread\u001b[0m\u001b[1;33m(\u001b[0m\u001b[0mlen\u001b[0m\u001b[1;33m,\u001b[0m \u001b[0mbuffer\u001b[0m\u001b[1;33m)\u001b[0m\u001b[1;33m\u001b[0m\u001b[1;33m\u001b[0m\u001b[0m\n\u001b[0m\u001b[0;32m   1101\u001b[0m             \u001b[1;32melse\u001b[0m\u001b[1;33m:\u001b[0m\u001b[1;33m\u001b[0m\u001b[1;33m\u001b[0m\u001b[0m\n\u001b[0;32m   1102\u001b[0m                 \u001b[1;32mreturn\u001b[0m \u001b[0mself\u001b[0m\u001b[1;33m.\u001b[0m\u001b[0m_sslobj\u001b[0m\u001b[1;33m.\u001b[0m\u001b[0mread\u001b[0m\u001b[1;33m(\u001b[0m\u001b[0mlen\u001b[0m\u001b[1;33m)\u001b[0m\u001b[1;33m\u001b[0m\u001b[1;33m\u001b[0m\u001b[0m\n",
      "\u001b[1;31mKeyboardInterrupt\u001b[0m: "
     ]
    }
   ],
   "source": [
    "import time\n",
    "import pandas as pd\n",
    "from pandarallel import pandarallel\n",
    "\n",
    "start_time = time.time()\n",
    "\n",
    "# Initialize pandarallel for parallel processing\n",
    "pandarallel.initialize(progress_bar=True)\n",
    "\n",
    "# Define a list of popular genres\n",
    "genres = [\"pop\", \"hip-hop\", \"rock\", \"edm\", \"country\", \"rnb\", \"jazz\", \"classical\", \"blues\", \"metal\"]\n",
    "\n",
    "# Define the number of tracks to retrieve for each genre\n",
    "num_tracks = 1000\n",
    "\n",
    "# Loop through the genres and get the playlist IDs for each genre\n",
    "playlist_ids = []\n",
    "for genre in genres:\n",
    "    playlists = sp.search(q=genre, type=\"playlist\", limit=10)\n",
    "    sorted_playlists = sorted(playlists[\"playlists\"][\"items\"], key=lambda p: p.get(\"followers\", {}).get(\"total\", 0), reverse=True)\n",
    "    for playlist in sorted_playlists:\n",
    "        playlist_ids.append(playlist[\"id\"])\n",
    "\n",
    "# Get the track IDs for each playlist until we have 1000 tracks for each genre\n",
    "track_ids = {}\n",
    "for genre in genres:\n",
    "    track_ids[genre] = []\n",
    "    used_track_ids = set()  # keep track of the track IDs that have already been used\n",
    "    for playlist_id in playlist_ids:\n",
    "        if len(track_ids[genre]) >= num_tracks:\n",
    "            break\n",
    "        playlist_tracks = sp.playlist_tracks(playlist_id, fields=\"items(track(id))\", limit=100)\n",
    "        for track in playlist_tracks[\"items\"]:\n",
    "            if len(track_ids[genre]) >= num_tracks:\n",
    "                break\n",
    "            track_id = track[\"track\"][\"id\"]\n",
    "            if track_id not in used_track_ids:\n",
    "                track_ids[genre].append(track_id)\n",
    "                used_track_ids.add(track_id)\n",
    "\n",
    "# Print the number of tracks for each genre\n",
    "for genre in genres:\n",
    "    print(f\"{genre}: {len(track_ids[genre])}\")\n",
    "\n",
    "# Flatten the track IDs into a single list\n",
    "flat_track_ids = [track_id for genre_track_ids in track_ids.values() for track_id in genre_track_ids]\n",
    "\n",
    "# Define a function to retrieve audio features for a track\n",
    "def get_audio_features(track_id):\n",
    "    import config\n",
    "    import spotipy\n",
    "    from spotipy.oauth2 import SpotifyClientCredentials\n",
    "    client_credentials_manager = SpotifyClientCredentials(client_id=config.client_id, client_secret=config.client_secret)\n",
    "    sp = spotipy.Spotify(client_credentials_manager=client_credentials_manager, requests_timeout=20)\n",
    "    audio_features = sp.audio_features(track_id)[0]\n",
    "    return audio_features\n",
    "\n",
    "# Retrieve audio features for each track using parallel processing\n",
    "audio_features_list = pd.Series(flat_track_ids).parallel_apply(get_audio_features).tolist()\n",
    "\n",
    "# Convert audio features list to pandas dataframe\n",
    "df = pd.DataFrame(audio_features_list)\n",
    "df = df[[\"danceability\",\"energy\",\"loudness\",\"speechiness\",\"acousticness\",\n",
    "    \"instrumentalness\",\"liveness\",\"valence\",\"tempo\",\"id\",\"duration_ms\"]]\n",
    "\n",
    "# Calculate time taken\n",
    "time_taken = time.time() - start_time\n",
    "print(f\"Time taken: {time_taken:.2f} seconds\")\n",
    "\n",
    "df\n",
    "\n"
   ]
  },
  {
   "cell_type": "code",
   "execution_count": null,
   "metadata": {},
   "outputs": [],
   "source": [
    "##Workspace\n",
    "import time\n",
    "import pandas as pd\n",
    "from pandarallel import pandarallel\n",
    "\n",
    "start_time = time.time()\n",
    "\n",
    "# Initialize pandarallel for parallel processing\n",
    "pandarallel.initialize(progress_bar=True, nb_workers=4)\n",
    "\n",
    "# Define a list of popular genres\n",
    "TO_DO = [\"pop\", \"hip-hop\", \"rock\", \"edm\", \"country\", \"rnb\", \"jazz\", \"classical\", \"blues\", \"metal\"]\n",
    "genres = [\"pop\"]\n",
    "# Define the number of tracks to retrieve for each genre\n",
    "num_tracks = 1000\n",
    "\n",
    "# Loop through the genres and get the playlist IDs for each genre\n",
    "playlist_ids = []\n",
    "for genre in genres:\n",
    "    playlists = sp.search(q=genre, type=\"playlist\", limit=20)\n",
    "    sorted_playlists = sorted(playlists[\"playlists\"][\"items\"], key=lambda p: p.get(\"followers\", {}).get(\"total\", 0), reverse=True)\n",
    "    for playlist in sorted_playlists:\n",
    "        followers = playlist.get(\"followers\")\n",
    "        if followers is not None:\n",
    "            followers_total = followers.get(\"total\")\n",
    "            sorted_playlists = sorted(playlists[\"playlists\"][\"items\"], key=lambda p: followers_total, reverse=True)\n",
    "\n",
    "\n",
    "# Get the track IDs for each playlist until we have 1000 tracks for each genre\n",
    "track_ids = {}\n",
    "for genre in genres:\n",
    "    track_ids[genre] = []\n",
    "    used_track_ids = set()  # keep track of the track IDs that have already been used\n",
    "    for playlist_id in playlist_ids:\n",
    "        if len(track_ids[genre]) >= num_tracks:\n",
    "            break\n",
    "        playlist_tracks = sp.playlist_tracks(playlist_id, fields=\"items(track(id))\", limit=100)\n",
    "        for track in playlist_tracks[\"items\"]:\n",
    "            if len(track_ids[genre]) >= num_tracks:\n",
    "                break\n",
    "            track_dict = track.get(\"track\")\n",
    "            if track_dict is not None:\n",
    "                track_id = track_dict.get(\"id\")\n",
    "                if track_id is not None and track_id not in used_track_ids:\n",
    "                    track_ids[genre].append(track_id)\n",
    "                    used_track_ids.add(track_id)\n",
    "\n",
    "\n",
    "# Print the number of tracks for each genre\n",
    "for genre in genres:\n",
    "    print(f\"{genre}: {len(track_ids[genre])}\")\n",
    "\n",
    "# Flatten the track IDs into a single list\n",
    "flat_track_ids = [track_id for genre_track_ids in track_ids.values() for track_id in genre_track_ids]\n",
    "\n",
    "# Define a function to retrieve audio features for a track\n",
    "def get_audio_features(track_id):\n",
    "    import config\n",
    "    import spotipy\n",
    "    from spotipy.oauth2 import SpotifyClientCredentials\n",
    "    client_credentials_manager = SpotifyClientCredentials(client_id=config.client_id, client_secret=config.client_secret)\n",
    "    sp = spotipy.Spotify(client_credentials_manager=client_credentials_manager, requests_timeout=20)\n",
    "    audio_features = sp.audio_features(track_id)[0]\n",
    "    return audio_features\n",
    "\n",
    "# Retrieve audio features for each track using parallel processing\n",
    "audio_features_list = pd.Series(flat_track_ids).parallel_apply(get_audio_features).tolist()\n",
    "\n",
    "# Convert audio features list to pandas dataframe\n",
    "df1 = pd.DataFrame(audio_features_list)\n",
    "df1 = df1[[\"danceability\",\"energy\",\"loudness\",\"speechiness\",\"acousticness\",\n",
    "    \"instrumentalness\",\"liveness\",\"valence\",\"tempo\",\"id\",\"duration_ms\"]]\n",
    "\n",
    "# Calculate time taken\n",
    "time_taken = time.time() - start_time\n",
    "print(f\"Time taken: {time_taken:.2f} seconds\")\n",
    "\n",
    "df1\n",
    "\n"
   ]
  },
  {
   "cell_type": "code",
   "execution_count": null,
   "metadata": {},
   "outputs": [],
   "source": [
    "##Workspace\n",
    "import time\n",
    "import pandas as pd\n",
    "from pandarallel import pandarallel\n",
    "\n",
    "start_time = time.time()\n",
    "\n",
    "# Initialize pandarallel for parallel processing\n",
    "pandarallel.initialize(progress_bar=True)\n",
    "\n",
    "# Define a list of popular genres\n",
    "TO_DO = [\"pop\", \"hip-hop\", \"rock\", \"edm\", \"country\", \"rnb\", \"jazz\", \"classical\", \"blues\", \"metal\"]\n",
    "genres = [\"hip-hop\"]\n",
    "# Define the number of tracks to retrieve for each genre\n",
    "num_tracks = 1000\n",
    "\n",
    "# Loop through the genres and get the playlist IDs for each genre\n",
    "playlist_ids = []\n",
    "for genre in genres:\n",
    "    playlists = sp.search(q=genre, type=\"playlist\", limit=20)\n",
    "    sorted_playlists = sorted(playlists[\"playlists\"][\"items\"], key=lambda p: p.get(\"followers\", {}).get(\"total\", 0), reverse=True)\n",
    "    for playlist in sorted_playlists:\n",
    "        playlist_ids.append(playlist[\"id\"])\n",
    "\n",
    "# Get the track IDs for each playlist until we have 1000 tracks for each genre\n",
    "track_ids = {}\n",
    "for genre in genres:\n",
    "    track_ids[genre] = []\n",
    "    used_track_ids = set()  # keep track of the track IDs that have already been used\n",
    "    for playlist_id in playlist_ids:\n",
    "        if len(track_ids[genre]) >= num_tracks:\n",
    "            break\n",
    "        playlist_tracks = sp.playlist_tracks(playlist_id, fields=\"items(track(id))\", limit=100)\n",
    "        for track in playlist_tracks[\"items\"]:\n",
    "            if len(track_ids[genre]) >= num_tracks:\n",
    "                break\n",
    "            track_id = track[\"track\"][\"id\"]\n",
    "            if track_id not in used_track_ids:\n",
    "                track_ids[genre].append(track_id)\n",
    "                used_track_ids.add(track_id)\n",
    "\n",
    "# Print the number of tracks for each genre\n",
    "for genre in genres:\n",
    "    print(f\"{genre}: {len(track_ids[genre])}\")\n",
    "\n",
    "# Flatten the track IDs into a single list\n",
    "flat_track_ids = [track_id for genre_track_ids in track_ids.values() for track_id in genre_track_ids]\n",
    "\n",
    "# Define a function to retrieve audio features for a track\n",
    "def get_audio_features(track_id):\n",
    "    import config\n",
    "    import spotipy\n",
    "    from spotipy.oauth2 import SpotifyClientCredentials\n",
    "    client_credentials_manager = SpotifyClientCredentials(client_id=config.client_id, client_secret=config.client_secret)\n",
    "    sp = spotipy.Spotify(client_credentials_manager=client_credentials_manager)\n",
    "    audio_features = sp.audio_features(track_id)[0]\n",
    "    return audio_features\n",
    "\n",
    "# Retrieve audio features for each track using parallel processing\n",
    "audio_features_list = pd.Series(flat_track_ids).parallel_apply(get_audio_features).tolist()\n",
    "\n",
    "# Convert audio features list to pandas dataframe\n",
    "df2 = pd.DataFrame(audio_features_list)\n",
    "df2 = df2[[\"danceability\",\"energy\",\"loudness\",\"speechiness\",\"acousticness\",\n",
    "    \"instrumentalness\",\"liveness\",\"valence\",\"tempo\",\"id\",\"duration_ms\"]]\n",
    "\n",
    "# Calculate time taken\n",
    "time_taken = time.time() - start_time\n",
    "print(f\"Time taken: {time_taken:.2f} seconds\")\n",
    "\n",
    "df2\n"
   ]
  },
  {
   "cell_type": "code",
   "execution_count": 14,
   "metadata": {},
   "outputs": [
    {
     "ename": "NameError",
     "evalue": "name 'flat_track_ids' is not defined",
     "output_type": "error",
     "traceback": [
      "\u001b[1;31m---------------------------------------------------------------------------\u001b[0m",
      "\u001b[1;31mNameError\u001b[0m                                 Traceback (most recent call last)",
      "\u001b[1;32m~\\AppData\\Local\\Temp\\ipykernel_14960\\2786440615.py\u001b[0m in \u001b[0;36m<module>\u001b[1;34m\u001b[0m\n\u001b[1;32m----> 1\u001b[1;33m \u001b[0mlen\u001b[0m\u001b[1;33m(\u001b[0m\u001b[0mflat_track_ids\u001b[0m\u001b[1;33m)\u001b[0m\u001b[1;33m\u001b[0m\u001b[1;33m\u001b[0m\u001b[0m\n\u001b[0m",
      "\u001b[1;31mNameError\u001b[0m: name 'flat_track_ids' is not defined"
     ]
    }
   ],
   "source": [
    "len(flat_track_ids)"
   ]
  },
  {
   "cell_type": "code",
   "execution_count": 15,
   "metadata": {},
   "outputs": [],
   "source": [
    "#df.to_csv(\"10-000Songs.csv\",index=False)"
   ]
  },
  {
   "cell_type": "code",
   "execution_count": 16,
   "metadata": {},
   "outputs": [
    {
     "name": "stdout",
     "output_type": "stream",
     "text": [
      "{'playlists': {'href': 'https://api.spotify.com/v1/search?query=metal&type=playlist&offset=0&limit=10',\n",
      "               'items': [{'collaborative': False,\n",
      "                          'description': '<a '\n",
      "                                         'href=spotify:playlist:37i9dQZF1EIYKiGTCZfJap>Rammstein</a>, '\n",
      "                                         '<a '\n",
      "                                         'href=spotify:playlist:37i9dQZF1EIWWw7AS5OscY>System '\n",
      "                                         'Of A Down</a>, <a '\n",
      "                                         'href=spotify:playlist:37i9dQZF1EIWnUbsWCrSf6>Korn</a> '\n",
      "                                         'and more',\n",
      "                          'external_urls': {'spotify': 'https://open.spotify.com/playlist/37i9dQZF1EQpgT26jgbgRI'},\n",
      "                          'href': 'https://api.spotify.com/v1/playlists/37i9dQZF1EQpgT26jgbgRI',\n",
      "                          'id': '37i9dQZF1EQpgT26jgbgRI',\n",
      "                          'images': [{'height': None,\n",
      "                                      'url': 'https://seed-mix-image.spotifycdn.com/v6/img/metal/6wWVKhxIU2cEi0K81v7HvP/en/large',\n",
      "                                      'width': None}],\n",
      "                          'name': 'Metal Mix',\n",
      "                          'owner': {'display_name': 'Spotify',\n",
      "                                    'external_urls': {'spotify': 'https://open.spotify.com/user/spotify'},\n",
      "                                    'href': 'https://api.spotify.com/v1/users/spotify',\n",
      "                                    'id': 'spotify',\n",
      "                                    'type': 'user',\n",
      "                                    'uri': 'spotify:user:spotify'},\n",
      "                          'primary_color': None,\n",
      "                          'public': None,\n",
      "                          'snapshot_id': 'MTY3NjYxMzYwMCwwMDAwMDAwMDBjMTFlMmUxMjNjNGIyZWJiNjhlNTAzODA1Njk2Y2Rh',\n",
      "                          'tracks': {'href': 'https://api.spotify.com/v1/playlists/37i9dQZF1EQpgT26jgbgRI/tracks',\n",
      "                                     'total': 50},\n",
      "                          'type': 'playlist',\n",
      "                          'uri': 'spotify:playlist:37i9dQZF1EQpgT26jgbgRI'},\n",
      "                         {'collaborative': False,\n",
      "                          'description': 'Want some metal? Better to start '\n",
      "                                         'with the essentials. Cover: '\n",
      "                                         'Metallica',\n",
      "                          'external_urls': {'spotify': 'https://open.spotify.com/playlist/37i9dQZF1DWWOaP4H0w5b0'},\n",
      "                          'href': 'https://api.spotify.com/v1/playlists/37i9dQZF1DWWOaP4H0w5b0',\n",
      "                          'id': '37i9dQZF1DWWOaP4H0w5b0',\n",
      "                          'images': [{'height': None,\n",
      "                                      'url': 'https://i.scdn.co/image/ab67706f0000000377a82f97fc34121553ba9620',\n",
      "                                      'width': None}],\n",
      "                          'name': 'Metal Essentials',\n",
      "                          'owner': {'display_name': 'Spotify',\n",
      "                                    'external_urls': {'spotify': 'https://open.spotify.com/user/spotify'},\n",
      "                                    'href': 'https://api.spotify.com/v1/users/spotify',\n",
      "                                    'id': 'spotify',\n",
      "                                    'type': 'user',\n",
      "                                    'uri': 'spotify:user:spotify'},\n",
      "                          'primary_color': None,\n",
      "                          'public': None,\n",
      "                          'snapshot_id': 'MTY3NTg4Njk2NywwMDAwMDAwMDE3OTY3ZWU0ZWMyOWQ4ZWEwNzcyNzQ0OThkOWY3ZGM1',\n",
      "                          'tracks': {'href': 'https://api.spotify.com/v1/playlists/37i9dQZF1DWWOaP4H0w5b0/tracks',\n",
      "                                     'total': 100},\n",
      "                          'type': 'playlist',\n",
      "                          'uri': 'spotify:playlist:37i9dQZF1DWWOaP4H0w5b0'},\n",
      "                         {'collaborative': False,\n",
      "                          'description': 'Falling In Reverse on top of the '\n",
      "                                         'biggest Metal playlist!',\n",
      "                          'external_urls': {'spotify': 'https://open.spotify.com/playlist/37i9dQZF1DWTcqUzwhNmKv'},\n",
      "                          'href': 'https://api.spotify.com/v1/playlists/37i9dQZF1DWTcqUzwhNmKv',\n",
      "                          'id': '37i9dQZF1DWTcqUzwhNmKv',\n",
      "                          'images': [{'height': None,\n",
      "                                      'url': 'https://i.scdn.co/image/ab67706f0000000300d69dddc162505753fde139',\n",
      "                                      'width': None}],\n",
      "                          'name': 'Kickass Metal',\n",
      "                          'owner': {'display_name': 'Spotify',\n",
      "                                    'external_urls': {'spotify': 'https://open.spotify.com/user/spotify'},\n",
      "                                    'href': 'https://api.spotify.com/v1/users/spotify',\n",
      "                                    'id': 'spotify',\n",
      "                                    'type': 'user',\n",
      "                                    'uri': 'spotify:user:spotify'},\n",
      "                          'primary_color': None,\n",
      "                          'public': None,\n",
      "                          'snapshot_id': 'MTY3NjYxMDA2MCwwMDAwMDAwMDQwY2U0Y2U2Mzk0MWI2ODJjZDEyZGRhOTk1NzM2MzFi',\n",
      "                          'tracks': {'href': 'https://api.spotify.com/v1/playlists/37i9dQZF1DWTcqUzwhNmKv/tracks',\n",
      "                                     'total': 60},\n",
      "                          'type': 'playlist',\n",
      "                          'uri': 'spotify:playlist:37i9dQZF1DWTcqUzwhNmKv'},\n",
      "                         {'collaborative': False,\n",
      "                          'description': 'Metalcore music picked just for you',\n",
      "                          'external_urls': {'spotify': 'https://open.spotify.com/playlist/37i9dQZF1EIgtj4OvJCT7Q'},\n",
      "                          'href': 'https://api.spotify.com/v1/playlists/37i9dQZF1EIgtj4OvJCT7Q',\n",
      "                          'id': '37i9dQZF1EIgtj4OvJCT7Q',\n",
      "                          'images': [{'height': None,\n",
      "                                      'url': 'https://seed-mix-image.spotifycdn.com/v6/img/desc/Metalcore/en/large',\n",
      "                                      'width': None}],\n",
      "                          'name': 'Metalcore Mix',\n",
      "                          'owner': {'display_name': 'Spotify',\n",
      "                                    'external_urls': {'spotify': 'https://open.spotify.com/user/spotify'},\n",
      "                                    'href': 'https://api.spotify.com/v1/users/spotify',\n",
      "                                    'id': 'spotify',\n",
      "                                    'type': 'user',\n",
      "                                    'uri': 'spotify:user:spotify'},\n",
      "                          'primary_color': None,\n",
      "                          'public': None,\n",
      "                          'snapshot_id': 'MTk0MDUsMDAwMDAwMDA3Y2VmYmVlZDM5MWZiYTIxNDg1YWVlMWNhZThmYTM5ZQ==',\n",
      "                          'tracks': {'href': 'https://api.spotify.com/v1/playlists/37i9dQZF1EIgtj4OvJCT7Q/tracks',\n",
      "                                     'total': 50},\n",
      "                          'type': 'playlist',\n",
      "                          'uri': 'spotify:playlist:37i9dQZF1EIgtj4OvJCT7Q'},\n",
      "                         {'collaborative': False,\n",
      "                          'description': 'Heavy Workout Metal music picked '\n",
      "                                         'just for you',\n",
      "                          'external_urls': {'spotify': 'https://open.spotify.com/playlist/37i9dQZF1EIfqsZhLCYSLK'},\n",
      "                          'href': 'https://api.spotify.com/v1/playlists/37i9dQZF1EIfqsZhLCYSLK',\n",
      "                          'id': '37i9dQZF1EIfqsZhLCYSLK',\n",
      "                          'images': [{'height': None,\n",
      "                                      'url': 'https://seed-mix-image.spotifycdn.com/v6/img/desc/Heavy%20Workout%20Metal/en/large',\n",
      "                                      'width': None}],\n",
      "                          'name': 'Heavy Workout Metal Mix',\n",
      "                          'owner': {'display_name': 'Spotify',\n",
      "                                    'external_urls': {'spotify': 'https://open.spotify.com/user/spotify'},\n",
      "                                    'href': 'https://api.spotify.com/v1/users/spotify',\n",
      "                                    'id': 'spotify',\n",
      "                                    'type': 'user',\n",
      "                                    'uri': 'spotify:user:spotify'},\n",
      "                          'primary_color': None,\n",
      "                          'public': None,\n",
      "                          'snapshot_id': 'MTk0MDUsMDAwMDAwMDBjZGI2OWEwOTA1MDE2NGE3ZjNhNjMzYjBmZGE2MDNhNg==',\n",
      "                          'tracks': {'href': 'https://api.spotify.com/v1/playlists/37i9dQZF1EIfqsZhLCYSLK/tracks',\n",
      "                                     'total': 50},\n",
      "                          'type': 'playlist',\n",
      "                          'uri': 'spotify:playlist:37i9dQZF1EIfqsZhLCYSLK'},\n",
      "                         {'collaborative': False,\n",
      "                          'description': 'Like the old school sound of metal? '\n",
      "                                         \"Then you'll love this playlist! \"\n",
      "                                         'Cover: Megadeth',\n",
      "                          'external_urls': {'spotify': 'https://open.spotify.com/playlist/37i9dQZF1DX2LTcinqsO68'},\n",
      "                          'href': 'https://api.spotify.com/v1/playlists/37i9dQZF1DX2LTcinqsO68',\n",
      "                          'id': '37i9dQZF1DX2LTcinqsO68',\n",
      "                          'images': [{'height': None,\n",
      "                                      'url': 'https://i.scdn.co/image/ab67706f000000038b611bbfa034d0b4e346487c',\n",
      "                                      'width': None}],\n",
      "                          'name': 'Old School Metal',\n",
      "                          'owner': {'display_name': 'Spotify',\n",
      "                                    'external_urls': {'spotify': 'https://open.spotify.com/user/spotify'},\n",
      "                                    'href': 'https://api.spotify.com/v1/users/spotify',\n",
      "                                    'id': 'spotify',\n",
      "                                    'type': 'user',\n",
      "                                    'uri': 'spotify:user:spotify'},\n",
      "                          'primary_color': None,\n",
      "                          'public': None,\n",
      "                          'snapshot_id': 'MTY2OTkxMjQ3MiwwMDAwMDAwMGFkYmEyNThjMTYzOTY5ZDc3OGNhMDhlZDIyY2EyYzUw',\n",
      "                          'tracks': {'href': 'https://api.spotify.com/v1/playlists/37i9dQZF1DX2LTcinqsO68/tracks',\n",
      "                                     'total': 100},\n",
      "                          'type': 'playlist',\n",
      "                          'uri': 'spotify:playlist:37i9dQZF1DX2LTcinqsO68'},\n",
      "                         {'collaborative': False,\n",
      "                          'description': '',\n",
      "                          'external_urls': {'spotify': 'https://open.spotify.com/playlist/3amsAAZS7PfJyenaj92MrY'},\n",
      "                          'href': 'https://api.spotify.com/v1/playlists/3amsAAZS7PfJyenaj92MrY',\n",
      "                          'id': '3amsAAZS7PfJyenaj92MrY',\n",
      "                          'images': [{'height': 640,\n",
      "                                      'url': 'https://mosaic.scdn.co/640/ab67616d0000b2730ea1ecb2d5271c2db402b0c2ab67616d0000b2732277d1a849a63c7075ec38ffab67616d0000b2737b178f928742be1492c6fba2ab67616d0000b2739a81658775e67d37b9e13be1',\n",
      "                                      'width': 640},\n",
      "                                     {'height': 300,\n",
      "                                      'url': 'https://mosaic.scdn.co/300/ab67616d0000b2730ea1ecb2d5271c2db402b0c2ab67616d0000b2732277d1a849a63c7075ec38ffab67616d0000b2737b178f928742be1492c6fba2ab67616d0000b2739a81658775e67d37b9e13be1',\n",
      "                                      'width': 300},\n",
      "                                     {'height': 60,\n",
      "                                      'url': 'https://mosaic.scdn.co/60/ab67616d0000b2730ea1ecb2d5271c2db402b0c2ab67616d0000b2732277d1a849a63c7075ec38ffab67616d0000b2737b178f928742be1492c6fba2ab67616d0000b2739a81658775e67d37b9e13be1',\n",
      "                                      'width': 60}],\n",
      "                          'name': 'Metal🤘🏻',\n",
      "                          'owner': {'display_name': 'Naydil González',\n",
      "                                    'external_urls': {'spotify': 'https://open.spotify.com/user/nayvalo'},\n",
      "                                    'href': 'https://api.spotify.com/v1/users/nayvalo',\n",
      "                                    'id': 'nayvalo',\n",
      "                                    'type': 'user',\n",
      "                                    'uri': 'spotify:user:nayvalo'},\n",
      "                          'primary_color': None,\n",
      "                          'public': None,\n",
      "                          'snapshot_id': 'NTgsNTYwMDA1NWU4NGQ3NjBjZWYzODVhOTA0N2FkZDM5MWRjZmY5NmIxYQ==',\n",
      "                          'tracks': {'href': 'https://api.spotify.com/v1/playlists/3amsAAZS7PfJyenaj92MrY/tracks',\n",
      "                                     'total': 5561},\n",
      "                          'type': 'playlist',\n",
      "                          'uri': 'spotify:playlist:3amsAAZS7PfJyenaj92MrY'},\n",
      "                         {'collaborative': False,\n",
      "                          'description': 'The biggest metal songs of the '\n",
      "                                         '2000s. Cover: System Of A Down',\n",
      "                          'external_urls': {'spotify': 'https://open.spotify.com/playlist/37i9dQZF1DWXNFSTtym834'},\n",
      "                          'href': 'https://api.spotify.com/v1/playlists/37i9dQZF1DWXNFSTtym834',\n",
      "                          'id': '37i9dQZF1DWXNFSTtym834',\n",
      "                          'images': [{'height': None,\n",
      "                                      'url': 'https://i.scdn.co/image/ab67706f000000039f50fed38a51e36e20284aa2',\n",
      "                                      'width': None}],\n",
      "                          'name': '00s Metal Classics',\n",
      "                          'owner': {'display_name': 'Spotify',\n",
      "                                    'external_urls': {'spotify': 'https://open.spotify.com/user/spotify'},\n",
      "                                    'href': 'https://api.spotify.com/v1/users/spotify',\n",
      "                                    'id': 'spotify',\n",
      "                                    'type': 'user',\n",
      "                                    'uri': 'spotify:user:spotify'},\n",
      "                          'primary_color': None,\n",
      "                          'public': None,\n",
      "                          'snapshot_id': 'MTY3NTg3OTQ4MywwMDAwMDAwMDY0OTExYmIyZDQzZDA1NmJmNTlmYTk5YTJkNGVmMDgw',\n",
      "                          'tracks': {'href': 'https://api.spotify.com/v1/playlists/37i9dQZF1DWXNFSTtym834/tracks',\n",
      "                                     'total': 100},\n",
      "                          'type': 'playlist',\n",
      "                          'uri': 'spotify:playlist:37i9dQZF1DWXNFSTtym834'},\n",
      "                         {'collaborative': False,\n",
      "                          'description': '',\n",
      "                          'external_urls': {'spotify': 'https://open.spotify.com/playlist/37i9dQZF1E4EBdeEVqipSd'},\n",
      "                          'href': 'https://api.spotify.com/v1/playlists/37i9dQZF1E4EBdeEVqipSd',\n",
      "                          'id': '37i9dQZF1E4EBdeEVqipSd',\n",
      "                          'images': [{'height': None,\n",
      "                                      'url': 'https://seeded-session-images.scdn.co/v1/img/artist/2ye2Wgw4gimLv2eAKyk1NB/en',\n",
      "                                      'width': None}],\n",
      "                          'name': 'Metallica Radio',\n",
      "                          'owner': {'display_name': 'Spotify',\n",
      "                                    'external_urls': {'spotify': 'https://open.spotify.com/user/spotify'},\n",
      "                                    'href': 'https://api.spotify.com/v1/users/spotify',\n",
      "                                    'id': 'spotify',\n",
      "                                    'type': 'user',\n",
      "                                    'uri': 'spotify:user:spotify'},\n",
      "                          'primary_color': None,\n",
      "                          'public': None,\n",
      "                          'snapshot_id': 'MTY3NjY1Mjg4MywwMDAwMDAwMGJjMDAwMTE0ZGE3NDQ0MmJhNjRjZTQ2YmVhN2Y0MGUy',\n",
      "                          'tracks': {'href': 'https://api.spotify.com/v1/playlists/37i9dQZF1E4EBdeEVqipSd/tracks',\n",
      "                                     'total': 50},\n",
      "                          'type': 'playlist',\n",
      "                          'uri': 'spotify:playlist:37i9dQZF1E4EBdeEVqipSd'},\n",
      "                         {'collaborative': False,\n",
      "                          'description': 'Heavy Metal forever. From classics '\n",
      "                                         'to fresh new tracks, just play it '\n",
      "                                         'loud! Cover: Lamb of God',\n",
      "                          'external_urls': {'spotify': 'https://open.spotify.com/playlist/37i9dQZF1DX9qNs32fujYe'},\n",
      "                          'href': 'https://api.spotify.com/v1/playlists/37i9dQZF1DX9qNs32fujYe',\n",
      "                          'id': '37i9dQZF1DX9qNs32fujYe',\n",
      "                          'images': [{'height': None,\n",
      "                                      'url': 'https://i.scdn.co/image/ab67706f0000000325ad692db831f64500792400',\n",
      "                                      'width': None}],\n",
      "                          'name': 'Heavy Metal',\n",
      "                          'owner': {'display_name': 'Spotify',\n",
      "                                    'external_urls': {'spotify': 'https://open.spotify.com/user/spotify'},\n",
      "                                    'href': 'https://api.spotify.com/v1/users/spotify',\n",
      "                                    'id': 'spotify',\n",
      "                                    'type': 'user',\n",
      "                                    'uri': 'spotify:user:spotify'},\n",
      "                          'primary_color': None,\n",
      "                          'public': None,\n",
      "                          'snapshot_id': 'MTY3NjYxMDAwMCwwMDAwMDAwMGJjOWFiODhmNzk5YTg0NDcyODNjZDg2ODg4OGE3Yjlj',\n",
      "                          'tracks': {'href': 'https://api.spotify.com/v1/playlists/37i9dQZF1DX9qNs32fujYe/tracks',\n",
      "                                     'total': 150},\n",
      "                          'type': 'playlist',\n",
      "                          'uri': 'spotify:playlist:37i9dQZF1DX9qNs32fujYe'}],\n",
      "               'limit': 10,\n",
      "               'next': 'https://api.spotify.com/v1/search?query=metal&type=playlist&offset=10&limit=10',\n",
      "               'offset': 0,\n",
      "               'previous': None,\n",
      "               'total': 1000}}\n"
     ]
    }
   ],
   "source": [
    "import pprint\n",
    "pprint.pprint(playlists)"
   ]
  },
  {
   "cell_type": "code",
   "execution_count": null,
   "metadata": {},
   "outputs": [],
   "source": [
    "pprint.pprint(playlists)"
   ]
  },
  {
   "cell_type": "markdown",
   "metadata": {},
   "source": [
    "#### Doing the same but this time selecting the least popular playlists"
   ]
  },
  {
   "cell_type": "code",
   "execution_count": null,
   "metadata": {},
   "outputs": [],
   "source": [
    "# Time taken: 7.13 seconds for 1 track\n",
    "# Total Time taken: 1533.60 seconds = 25.56min\n",
    "import time\n",
    "import pandas as pd\n",
    "from pandarallel import pandarallel\n",
    "\n",
    "start_time = time.time()\n",
    "\n",
    "# Initialize pandarallel for parallel processing\n",
    "pandarallel.initialize(progress_bar=True)\n",
    "\n",
    "# Define a list of popular genres\n",
    "genres = [\"pop\", \"hip-hop\", \"rock\", \"edm\", \"country\", \"rnb\", \"jazz\", \"classical\", \"blues\", \"metal\"]\n",
    "\n",
    "# Define the number of tracks to retrieve for each genre\n",
    "num_tracks = 1000\n",
    "\n",
    "# Loop through the genres and get the playlist IDs for each genre\n",
    "playlist_ids = []\n",
    "for genre in genres:\n",
    "    playlists = sp.search(q=genre, type=\"playlist\", limit=10)\n",
    "    sorted_playlists = sorted(playlists[\"playlists\"][\"items\"], key=lambda p: p.get(\"followers\", {}).get(\"total\", 0), reverse=False)\n",
    "    for playlist in sorted_playlists:\n",
    "        playlist_ids.append(playlist[\"id\"])\n",
    "\n",
    "# Get the track IDs for each playlist until we have 1000 tracks for each genre\n",
    "track_ids = {}\n",
    "for genre in genres:\n",
    "    track_ids[genre] = []\n",
    "    used_track_ids = set()  # keep track of the track IDs that have already been used\n",
    "    for playlist_id in playlist_ids:\n",
    "        if len(track_ids[genre]) >= num_tracks:\n",
    "            break\n",
    "        playlist_tracks = sp.playlist_tracks(playlist_id, fields=\"items(track(id))\", limit=100)\n",
    "        for track in playlist_tracks[\"items\"]:\n",
    "            if len(track_ids[genre]) >= num_tracks:\n",
    "                break\n",
    "            track_id = track[\"track\"][\"id\"]\n",
    "            if track_id not in used_track_ids:\n",
    "                track_ids[genre].append(track_id)\n",
    "                used_track_ids.add(track_id)\n",
    "\n",
    "# Print the number of tracks for each genre\n",
    "for genre in genres:\n",
    "    print(f\"{genre}: {len(track_ids[genre])}\")\n",
    "\n",
    "# Flatten the track IDs into a single list\n",
    "flat_track_ids = [track_id for genre_track_ids in track_ids.values() for track_id in genre_track_ids]\n",
    "\n",
    "# Define a function to retrieve audio features for a track\n",
    "def get_audio_features(track_id):\n",
    "    import config\n",
    "    import spotipy\n",
    "    from spotipy.oauth2 import SpotifyClientCredentials\n",
    "    client_credentials_manager = SpotifyClientCredentials(client_id=config.client_id, client_secret=config.client_secret)\n",
    "    sp = spotipy.Spotify(client_credentials_manager=client_credentials_manager)\n",
    "    audio_features = sp.audio_features(track_id)[0]\n",
    "    return audio_features\n",
    "\n",
    "# Retrieve audio features for each track using parallel processing\n",
    "audio_features_list = pd.Series(flat_track_ids).parallel_apply(get_audio_features).tolist()\n",
    "\n",
    "# Convert audio features list to pandas dataframe\n",
    "df_3 = pd.DataFrame(audio_features_list)\n",
    "df_3 = df_3[[\"danceability\",\"energy\",\"loudness\",\"speechiness\",\"acousticness\",\n",
    "    \"instrumentalness\",\"liveness\",\"valence\",\"tempo\",\"id\",\"duration_ms\"]]\n",
    "\n",
    "# Calculate time taken\n",
    "time_taken = time.time() - start_time\n",
    "print(f\"Time taken: {time_taken:.2f} seconds\")\n",
    "\n",
    "df_3\n",
    "\n"
   ]
  },
  {
   "cell_type": "code",
   "execution_count": null,
   "metadata": {},
   "outputs": [],
   "source": [
    "##TESTINGG lOOP\n",
    "import time\n",
    "import pandas as pd\n",
    "from pandarallel import pandarallel\n",
    "\n",
    "start_time = time.time()\n",
    "\n",
    "# Initialize pandarallel for parallel processing\n",
    "pandarallel.initialize(progress_bar=True)\n",
    "\n",
    "# Define a list of popular genres\n",
    "TODO = [\"pop\", \"hip-hop\", \"rock\", \"edm\", \"country\", \"rnb\", \"jazz\", \"classical\", \"blues\", \"metal\"]\n",
    "genres = [\"pop\"]\n",
    "\n",
    "# Define the number of tracks to retrieve for each genre\n",
    "num_tracks = 1000\n",
    "\n",
    "# Loop through the genres and get the playlist IDs for each genre\n",
    "playlist_ids = []\n",
    "for genre in genres:\n",
    "    playlists = sp.search(q=genre, type=\"playlist\", limit=15)\n",
    "    sorted_playlists = sorted(playlists[\"playlists\"][\"items\"], key=lambda p: p.get(\"followers\", {}).get(\"total\", 0), reverse=True)\n",
    "    for playlist in sorted_playlists:\n",
    "        playlist_ids.append(playlist[\"id\"])\n",
    "\n",
    "# Get the track IDs for each playlist until we have 1000 tracks for each genre\n",
    "track_ids = {}\n",
    "for genre in genres:\n",
    "    track_ids[genre] = []\n",
    "    used_track_ids = set()  # keep track of the track IDs that have already been used\n",
    "    for playlist_id in playlist_ids:\n",
    "        if len(track_ids[genre]) >= num_tracks:\n",
    "            break\n",
    "        playlist_tracks = sp.playlist_tracks(playlist_id, fields=\"items(track(id))\", limit=100)\n",
    "        for track in playlist_tracks[\"items\"]:\n",
    "            if len(track_ids[genre]) >= num_tracks:\n",
    "                break\n",
    "            track_id = track[\"track\"][\"id\"]\n",
    "            if track_id not in used_track_ids:\n",
    "                track_ids[genre].append(track_id)\n",
    "                used_track_ids.add(track_id)\n",
    "\n",
    "# Print the number of tracks for each genre\n",
    "for genre in genres:\n",
    "    print(f\"{genre}: {len(track_ids[genre])}\")\n",
    "\n",
    "# Flatten the track IDs into a single list\n",
    "flat_track_ids = [track_id for genre_track_ids in track_ids.values() for track_id in genre_track_ids]\n",
    "\n",
    "# Define a function to retrieve audio features for a track\n",
    "def get_audio_features(track_id):\n",
    "    import config\n",
    "    import spotipy\n",
    "    from spotipy.oauth2 import SpotifyClientCredentials\n",
    "    client_credentials_manager = SpotifyClientCredentials(client_id=config.client_id, client_secret=config.client_secret)\n",
    "    sp = spotipy.Spotify(client_credentials_manager=client_credentials_manager)\n",
    "    audio_features = sp.audio_features(track_id)[0]\n",
    "    return audio_features\n",
    "\n",
    "# Retrieve audio features for each track using parallel processing\n",
    "audio_features_list = pd.Series(flat_track_ids).parallel_apply(get_audio_features).tolist()\n",
    "\n",
    "# Convert audio features list to pandas dataframe\n",
    "pop = pd.DataFrame(audio_features_list)\n",
    "pop = pop[[\"danceability\",\"energy\",\"loudness\",\"speechiness\",\"acousticness\",\n",
    "    \"instrumentalness\",\"liveness\",\"valence\",\"tempo\",\"id\",\"duration_ms\"]]\n",
    "\n",
    "# Calculate time taken\n",
    "time_taken = time.time() - start_time\n",
    "print(f\"Time taken: {time_taken:.2f} seconds\")\n",
    "\n",
    "pop\n"
   ]
  },
  {
   "cell_type": "code",
   "execution_count": null,
   "metadata": {},
   "outputs": [],
   "source": [
    "#df_2.to_csv(\"least10-000Songs.csv\",index=False)"
   ]
  },
  {
   "cell_type": "code",
   "execution_count": null,
   "metadata": {},
   "outputs": [],
   "source": [
    "import time\n",
    "import pandas as pd\n",
    "from pandarallel import pandarallel\n",
    "\n",
    "start_time = time.time()\n",
    "\n",
    "# Initialize pandarallel for parallel processing\n",
    "pandarallel.initialize(progress_bar=True)\n",
    "\n",
    "# Define a list of popular genres\n",
    "genres = [\"pop\", \"hip-hop\", \"rock\", \"edm\", \"country\", \"rnb\", \"jazz\", \"classical\", \"blues\", \"metal\"]\n",
    "\n",
    "# Define the number of tracks to retrieve for each genre\n",
    "num_tracks = 1000\n",
    "\n",
    "# Loop through the genres and get the playlist IDs for each genre\n",
    "playlist_ids = []\n",
    "for genre in genres:\n",
    "    playlists = sp.search(q=genre, type=\"playlist\", limit=10)\n",
    "    sorted_playlists = sorted(playlists[\"playlists\"][\"items\"], key=lambda p: p.get(\"followers\", {}).get(\"total\", 0), reverse=True)\n",
    "    for playlist in sorted_playlists:\n",
    "        playlist_ids.append(playlist[\"id\"])\n",
    "\n",
    "# Get the track IDs for each playlist until we have 1000 tracks for each genre\n",
    "track_ids = {}\n",
    "for genre in genres:\n",
    "    track_ids[genre] = []\n",
    "    used_track_ids = set()  # keep track of the track IDs that have already been used\n",
    "    for playlist_id in playlist_ids:\n",
    "        if len(track_ids[genre]) >= num_tracks:\n",
    "            break\n",
    "        playlist_tracks = sp.playlist_tracks(playlist_id, fields=\"items(track(id))\", limit=100)\n",
    "        for track in playlist_tracks[\"items\"]:\n",
    "            if len(track_ids[genre]) >= num_tracks:\n",
    "                break\n",
    "            track_id = track[\"track\"][\"id\"]\n",
    "            if track_id not in used_track_ids:\n",
    "                track_ids[genre].append(track_id)\n",
    "                used_track_ids.add(track_id)\n",
    "\n",
    "# Print the number of tracks for each genre\n",
    "for genre in genres:\n",
    "    print(f\"{genre}: {len(track_ids[genre])}\")\n",
    "\n",
    "# Flatten the track IDs into a single list\n",
    "flat_track_ids = [track_id for genre_track_ids in track_ids.values() for track_id in genre_track_ids]\n",
    "\n",
    "# Define a function to retrieve audio features for a track\n",
    "def get_audio_features(track_id):\n",
    "    import config\n",
    "    import spotipy\n",
    "    from spotipy.oauth2 import SpotifyClientCredentials\n",
    "    client_credentials_manager = SpotifyClientCredentials(client_id=config.client_id, client_secret=config.client_secret)\n",
    "    sp = spotipy.Spotify(client_credentials_manager=client_credentials_manager)\n",
    "    audio_features = sp.audio_features(track_id)[0]\n",
    "    return audio_features\n",
    "\n",
    "# Retrieve audio features for each track using parallel processing\n",
    "audio_features_list = pd.Series(flat_track_ids).parallel_apply(get_audio_features).tolist()\n",
    "\n",
    "# Convert audio features list to pandas dataframe\n",
    "df = pd.DataFrame(audio_features_list)\n",
    "df = df[[\"danceability\",\"energy\",\"loudness\",\"speechiness\",\"acousticness\",\n",
    "    \"instrumentalness\",\"liveness\",\"valence\",\"tempo\",\"id\",\"duration_ms\"]]\n",
    "\n",
    "# Calculate time taken\n",
    "time_taken = time.time() - start_time\n",
    "print(f\"Time taken: {time_taken:.2f} seconds\")\n",
    "\n",
    "df\n",
    "\n"
   ]
  },
  {
   "cell_type": "code",
   "execution_count": null,
   "metadata": {},
   "outputs": [],
   "source": [
    "import pandas as pd\n",
    "import numpy as np\n",
    "d1 = pd.read_csv(\"10-000Songs.csv\")\n",
    "d2 = pd.read_csv(\"least10-000Songs.csv\")\n",
    "d1\n"
   ]
  },
  {
   "cell_type": "code",
   "execution_count": null,
   "metadata": {},
   "outputs": [],
   "source": [
    "test = d1.drop_duplicates()\n",
    "test"
   ]
  },
  {
   "cell_type": "code",
   "execution_count": null,
   "metadata": {},
   "outputs": [],
   "source": [
    "d1_and_2 = pd.concat([d1,d2], axis=0)"
   ]
  },
  {
   "cell_type": "code",
   "execution_count": null,
   "metadata": {},
   "outputs": [],
   "source": [
    "d1_and_2"
   ]
  },
  {
   "cell_type": "code",
   "execution_count": null,
   "metadata": {},
   "outputs": [],
   "source": [
    "DF = d1_and_2.drop_duplicates()"
   ]
  },
  {
   "cell_type": "code",
   "execution_count": null,
   "metadata": {},
   "outputs": [],
   "source": [
    "DF"
   ]
  },
  {
   "cell_type": "raw",
   "metadata": {},
   "source": [
    "# Running code again, this time without sorting playlists to get the one with the most followers\n",
    "# goal to get random playlists with new songs to add to df\n",
    "# but Time taken: 16.01 seconds for only 1 track\n",
    "\n",
    "import time\n",
    "import pandas as pd\n",
    "from pandarallel import pandarallel\n",
    "\n",
    "start_time = time.time()\n",
    "\n",
    "# Initialize pandarallel for parallel processing\n",
    "pandarallel.initialize(progress_bar=True)\n",
    "\n",
    "# Define a list of popular genres\n",
    "genres = [\"pop\", \"hip-hop\", \"rock\", \"edm\", \"country\", \"rnb\", \"jazz\", \"classical\", \"blues\", \"metal\"]\n",
    "\n",
    "# Define the number of tracks to retrieve for each genre\n",
    "num_tracks = 1\n",
    "\n",
    "# Loop through the genres and get the playlist IDs for each genre\n",
    "playlist_ids = []\n",
    "for genre in genres:\n",
    "    playlists = sp.search(q=genre, type=\"playlist\", limit=10)\n",
    "    playlists = playlists[\"playlists\"][\"items\"]\n",
    "    for playlist in playlists:\n",
    "        playlist_ids.append(playlist[\"id\"])\n",
    "\n",
    "# Get the track IDs for each playlist until we have 1000 tracks for each genre\n",
    "track_ids = {}\n",
    "for genre in genres:\n",
    "    track_ids[genre] = []\n",
    "    used_track_ids = set()  # keep track of the track IDs that have already been used\n",
    "    for playlist_id in playlist_ids:\n",
    "        if len(track_ids[genre]) >= num_tracks:\n",
    "            break\n",
    "        playlist_tracks = sp.playlist_tracks(playlist_id, fields=\"items(track(id))\", limit=100)\n",
    "        for track in playlist_tracks[\"items\"]:\n",
    "            if len(track_ids[genre]) >= num_tracks:\n",
    "                break\n",
    "            track_id = track[\"track\"][\"id\"]\n",
    "            if track_id not in used_track_ids:\n",
    "                track_ids[genre].append(track_id)\n",
    "                used_track_ids.add(track_id)\n",
    "\n",
    "# Print the number of tracks for each genre\n",
    "for genre in genres:\n",
    "    print(f\"{genre}: {len(track_ids[genre])}\")\n",
    "\n",
    "# Flatten the track IDs into a single list\n",
    "flat_track_ids = [track_id for genre_track_ids in track_ids.values() for track_id in genre_track_ids]\n",
    "\n",
    "# Define a function to retrieve audio features for a track\n",
    "def get_audio_features(track_id):\n",
    "    import config\n",
    "    import spotipy\n",
    "    from spotipy.oauth2 import SpotifyClientCredentials\n",
    "    client_credentials_manager = SpotifyClientCredentials(client_id=config.client_id, client_secret=config.client_secret)\n",
    "    sp = spotipy.Spotify(client_credentials_manager=client_credentials_manager)\n",
    "    audio_features = sp.audio_features(track_id)[0]\n",
    "    return audio_features\n",
    "\n",
    "# Retrieve audio features for each track using parallel processing\n",
    "audio_features_list = pd.Series(flat_track_ids).parallel_apply(get_audio_features).tolist()\n",
    "\n",
    "# Convert audio features list to pandas dataframe\n",
    "df_2 = pd.DataFrame(audio_features_list)\n",
    "df_2 = df_2[[\"danceability\",\"energy\",\"loudness\",\"speechiness\",\"acousticness\",\n",
    "    \"instrumentalness\",\"liveness\",\"valence\",\"tempo\",\"id\",\"duration_ms\"]]\n",
    "\n",
    "# Calculate time taken\n",
    "time_taken = time.time() - start_time\n",
    "print(f\"Time taken: {time_taken:.2f} seconds\")\n",
    "\n",
    "df_2\n"
   ]
  },
  {
   "cell_type": "code",
   "execution_count": null,
   "metadata": {},
   "outputs": [],
   "source": [
    "##NOW TRYING 10.000 songs per category!\n",
    "#ERROR: \"NoneType object is not subscriptable\" \n",
    "#usually means that you are trying to access an element of an object that is None\n",
    "#fixed in code by adding \n",
    "import time\n",
    "import pandas as pd\n",
    "from pandarallel import pandarallel\n",
    "\n",
    "start_time = time.time()\n",
    "\n",
    "# Initialize pandarallel for parallel processing\n",
    "pandarallel.initialize(progress_bar=True)\n",
    "\n",
    "# Define a list of popular genres\n",
    "To_Do = [\"pop\", \"hip-hop\", \"rock\", \"edm\", \"country\", \"rnb\", \"jazz\", \"classical\", \"blues\", \"metal\"]\n",
    "genres = [\"pop\"]\n",
    "# Define the number of tracks to retrieve for each genre\n",
    "num_tracks = 1000\n",
    "\n",
    "# Loop through the genres and get the playlist IDs for each genre\n",
    "playlist_ids = []\n",
    "for genre in genres:\n",
    "    playlists = sp.search(q=genre, type=\"playlist\", limit=20)\n",
    "    if playlists is not None and \"playlists\" in playlists and \"items\" in playlists[\"playlists\"]:\n",
    "        sorted_playlists = sorted(playlists[\"playlists\"][\"items\"], key=lambda p: p.get(\"followers\", {}).get(\"total\", 0), reverse=True)\n",
    "        for playlist in sorted_playlists:\n",
    "            playlist_ids.append(playlist[\"id\"])\n",
    "\n",
    "# Get the track IDs for each playlist until we have 1000 tracks for each genre\n",
    "track_ids = {}\n",
    "for genre in genres:\n",
    "    track_ids[genre] = []\n",
    "    used_track_ids = set()  # keep track of the track IDs that have already been used\n",
    "    for playlist_id in playlist_ids:\n",
    "        if len(track_ids[genre]) >= num_tracks:\n",
    "            break\n",
    "        playlist_tracks = sp.playlist_tracks(playlist_id, fields=\"items(track(id))\", limit=100)\n",
    "        if playlist_tracks is not None and \"items\" in playlist_tracks:\n",
    "            for track in playlist_tracks[\"items\"]:\n",
    "                if len(track_ids[genre]) >= num_tracks:\n",
    "                    break\n",
    "                track_id = track[\"track\"][\"id\"]\n",
    "                if track_id not in used_track_ids:\n",
    "                    track_ids[genre].append(track_id)\n",
    "                    used_track_ids.add(track_id)\n",
    "\n",
    "# Print the number of tracks for each genre\n",
    "for genre in genres:\n",
    "    print(f\"{genre}: {len(track_ids[genre])}\")\n",
    "\n",
    "# Flatten the track IDs into a single list\n",
    "flat_track_ids = [track_id for genre_track_ids in track_ids.values() for track_id in genre_track_ids]\n",
    "\n",
    "# Define a function to retrieve audio features for a track\n",
    "def get_audio_features(track_id):\n",
    "    import config\n",
    "    import spotipy\n",
    "    from spotipy.oauth2 import SpotifyClientCredentials\n",
    "    client_credentials_manager = SpotifyClientCredentials(client_id=config.client_id, client_secret=config.client_secret)\n",
    "    sp = spotipy.Spotify(client_credentials_manager=client_credentials_manager)\n",
    "    audio_features = sp.audio_features(track_id)[0]\n",
    "    return audio_features\n",
    "\n",
    "# Retrieve audio features for each track using parallel processing\n",
    "audio_features_list = pd.Series(flat_track_ids).parallel_apply(get_audio_features).tolist()\n",
    "\n",
    "# Convert audio features list to pandas dataframe\n",
    "pop = pd.DataFrame(audio_features_list)\n",
    "pop = pop[[\"danceability\",\"energy\",\"loudness\",\"speechiness\",\"acousticness\",\n",
    "    \"instrumentalness\",\"liveness\",\"valence\",\"tempo\"]]\n",
    "\n",
    "# Calculate time taken\n",
    "time_taken = time.time() - start_time\n",
    "print(f\"Time taken: {time_taken:.2f} seconds\")\n",
    "\n",
    "pop\n",
    "\n"
   ]
  },
  {
   "cell_type": "code",
   "execution_count": null,
   "metadata": {},
   "outputs": [],
   "source": [
    "import pandas as pd\n",
    "from tqdm import tqdm\n",
    "from pandarallel import pandarallel\n",
    "\n",
    "# Initialize the parallel processing\n",
    "pandarallel.initialize(progress_bar=True)\n",
    "\n",
    "# Define a list of popular genres\n",
    "genres = [\"pop\", \"hip-hop\", \"rock\", \"edm\", \"country\", \"rnb\", \"jazz\", \"classical\", \"blues\", \"metal\"]\n",
    "\n",
    "# Define the number of tracks to retrieve for each genre\n",
    "num_tracks = 1000\n",
    "\n",
    "# Loop through the genres and get the playlist IDs for each genre\n",
    "playlist_ids = []\n",
    "for genre in genres:\n",
    "    playlists = sp.search(q=genre, type=\"playlist\", limit=10, market=\"US\")\n",
    "    sorted_playlists = sorted(playlists[\"playlists\"][\"items\"], key=lambda p: p.get(\"followers\", {}).get(\"total\", 0), reverse=True)\n",
    "    for playlist in sorted_playlists:\n",
    "        playlist_ids.append(playlist[\"id\"])\n",
    "\n",
    "# Get the track IDs for each playlist until we have 1000 tracks for each genre\n",
    "track_ids = {}\n",
    "for genre in genres:\n",
    "    track_ids[genre] = []\n",
    "    used_track_ids = set()  # keep track of the track IDs that have already been used\n",
    "    for playlist_id in playlist_ids:\n",
    "        if len(track_ids[genre]) >= num_tracks:\n",
    "            break\n",
    "        playlist_tracks = sp.playlist_tracks(playlist_id, fields=\"items(track(id))\", limit=num_tracks)\n",
    "        for track in playlist_tracks[\"items\"]:\n",
    "            if len(track_ids[genre]) >= num_tracks:\n",
    "                break\n",
    "            track_id = track[\"track\"][\"id\"]\n",
    "            if track_id not in used_track_ids:\n",
    "                track_ids[genre].append(track_id)\n",
    "                used_track_ids.add(track_id)\n",
    "\n",
    "# Print the number of tracks for each genre\n",
    "for genre in genres:\n",
    "    print(f\"{genre}: {len(track_ids[genre])}\")\n",
    "\n",
    "# Flatten the track IDs into a single list\n",
    "flat_track_ids = [track_id for genre_track_ids in track_ids.values() for track_id in genre_track_ids]\n",
    "\n",
    "# Process the audio features in parallel\n",
    "def process_track(track_id):\n",
    "    audio_features = sp.audio_features(track_id)[0]\n",
    "    audio_features['track_id'] = track_id\n",
    "    return audio_features\n",
    "\n",
    "df = pd.DataFrame()\n",
    "chunk_size = 100\n",
    "for i in tqdm(range(0, len(flat_track_ids), chunk_size)):\n",
    "    chunk_ids = flat_track_ids[i:i+chunk_size]\n",
    "    chunk_df = pd.DataFrame(chunk_ids, columns=['id'])\n",
    "    chunk_df = chunk_df.parallel_apply(lambda row: process_track(row['id']), axis=1)\n",
    "    df = pd.concat([df, chunk_df])\n",
    "\n",
    "# Reorder the columns\n",
    "df = df[[\"danceability\",\"energy\",\"loudness\",\"speechiness\",\"acousticness\",\n",
    "    \"instrumentalness\",\"liveness\",\"valence\",\"tempo\",\"id\",\"duration_ms\"]]\n",
    "\n",
    "# Reset the index\n",
    "df = df.reset_index(drop=True)\n",
    "\n",
    "# Print the dataframe\n",
    "print(df.head())\n"
   ]
  },
  {
   "cell_type": "markdown",
   "metadata": {},
   "source": [
    "## Dummy: extracting the songs ids from 1 playlist"
   ]
  },
  {
   "cell_type": "code",
   "execution_count": 7,
   "metadata": {
    "colab": {
     "base_uri": "https://localhost:8080/",
     "output_embedded_package_id": "11lmL6TaP4CJpfs0sN7EJh5tcgfZk9V36"
    },
    "executionInfo": {
     "elapsed": 13594,
     "status": "ok",
     "timestamp": 1623748845508,
     "user": {
      "displayName": "Ignacio Soteras",
      "photoUrl": "",
      "userId": "02050793736257155229"
     },
     "user_tz": -120
    },
    "id": "xL2er8hRIl_S",
    "outputId": "d0450533-db51-412d-8d20-43634781280a",
    "scrolled": true
   },
   "outputs": [],
   "source": [
    "def get_playlist_tracks(username, playlist_id):\n",
    "    results = sp.user_playlist_tracks(username,playlist_id,market=\"GB\")\n",
    "    tracks = results['items']\n",
    "    while results['next']:\n",
    "        results = sp.next(results)\n",
    "        tracks.extend(results['items'])\n",
    "    return tracks"
   ]
  },
  {
   "cell_type": "code",
   "execution_count": null,
   "metadata": {
    "scrolled": true
   },
   "outputs": [],
   "source": [
    "# playlist \"all genres, all decades\" with 2600 tracks\n",
    "tracks=get_playlist_tracks(\"spotify\", \"6VaNNtZuGdbQ3GMNnhPl9e\")\n",
    "print(len(tracks)-1)\n",
    "# Python is zero-based that's why len -1"
   ]
  },
  {
   "cell_type": "code",
   "execution_count": 9,
   "metadata": {},
   "outputs": [],
   "source": [
    "# playlist \"all genres, all decades\"\n",
    "tracks=get_playlist_tracks(\"spotify\", \"6VaNNtZuGdbQ3GMNnhPl9e\")\n",
    "\n",
    "list_of_audio_features=[]\n",
    "for item in range(0,1100):\n",
    "    list_of_audio_features.append(sp.audio_features(tracks[item][\"track\"][\"id\"])[0])\n"
   ]
  },
  {
   "cell_type": "code",
   "execution_count": 14,
   "metadata": {},
   "outputs": [
    {
     "data": {
      "text/plain": [
       "[{'danceability': 0.611,\n",
       "  'energy': 0.319,\n",
       "  'key': 5,\n",
       "  'loudness': -10.743,\n",
       "  'mode': 1,\n",
       "  'speechiness': 0.0357,\n",
       "  'acousticness': 0.815,\n",
       "  'instrumentalness': 0.0151,\n",
       "  'liveness': 0.108,\n",
       "  'valence': 0.176,\n",
       "  'tempo': 124.92,\n",
       "  'type': 'audio_features',\n",
       "  'id': '6dtWKqqdveI3YvdYJQKWWn',\n",
       "  'uri': 'spotify:track:6dtWKqqdveI3YvdYJQKWWn',\n",
       "  'track_href': 'https://api.spotify.com/v1/tracks/6dtWKqqdveI3YvdYJQKWWn',\n",
       "  'analysis_url': 'https://api.spotify.com/v1/audio-analysis/6dtWKqqdveI3YvdYJQKWWn',\n",
       "  'duration_ms': 226653,\n",
       "  'time_signature': 4},\n",
       " {'danceability': 0.583,\n",
       "  'energy': 0.61,\n",
       "  'key': 5,\n",
       "  'loudness': -5.639,\n",
       "  'mode': 0,\n",
       "  'speechiness': 0.0382,\n",
       "  'acousticness': 0.00425,\n",
       "  'instrumentalness': 0.000105,\n",
       "  'liveness': 0.14,\n",
       "  'valence': 0.336,\n",
       "  'tempo': 114.06,\n",
       "  'type': 'audio_features',\n",
       "  'id': '3uwnnTQcHM1rDqSfA4gQNz',\n",
       "  'uri': 'spotify:track:3uwnnTQcHM1rDqSfA4gQNz',\n",
       "  'track_href': 'https://api.spotify.com/v1/tracks/3uwnnTQcHM1rDqSfA4gQNz',\n",
       "  'analysis_url': 'https://api.spotify.com/v1/audio-analysis/3uwnnTQcHM1rDqSfA4gQNz',\n",
       "  'duration_ms': 214740,\n",
       "  'time_signature': 4},\n",
       " {'danceability': 0.7,\n",
       "  'energy': 0.709,\n",
       "  'key': 7,\n",
       "  'loudness': -5.006,\n",
       "  'mode': 1,\n",
       "  'speechiness': 0.0838,\n",
       "  'acousticness': 0.0048,\n",
       "  'instrumentalness': 0,\n",
       "  'liveness': 0.029,\n",
       "  'valence': 0.624,\n",
       "  'tempo': 122.019,\n",
       "  'type': 'audio_features',\n",
       "  'id': '1gv4xPanImH17bKZ9rOveR',\n",
       "  'uri': 'spotify:track:1gv4xPanImH17bKZ9rOveR',\n",
       "  'track_href': 'https://api.spotify.com/v1/tracks/1gv4xPanImH17bKZ9rOveR',\n",
       "  'analysis_url': 'https://api.spotify.com/v1/audio-analysis/1gv4xPanImH17bKZ9rOveR',\n",
       "  'duration_ms': 202960,\n",
       "  'time_signature': 4},\n",
       " {'danceability': 0.547,\n",
       "  'energy': 0.895,\n",
       "  'key': 9,\n",
       "  'loudness': -4.693,\n",
       "  'mode': 1,\n",
       "  'speechiness': 0.0408,\n",
       "  'acousticness': 0.00226,\n",
       "  'instrumentalness': 0.000692,\n",
       "  'liveness': 0.184,\n",
       "  'valence': 0.497,\n",
       "  'tempo': 90.0,\n",
       "  'type': 'audio_features',\n",
       "  'id': '6xBQEW4ge9OlbYUt5IVyVz',\n",
       "  'uri': 'spotify:track:6xBQEW4ge9OlbYUt5IVyVz',\n",
       "  'track_href': 'https://api.spotify.com/v1/tracks/6xBQEW4ge9OlbYUt5IVyVz',\n",
       "  'analysis_url': 'https://api.spotify.com/v1/audio-analysis/6xBQEW4ge9OlbYUt5IVyVz',\n",
       "  'duration_ms': 198973,\n",
       "  'time_signature': 4},\n",
       " {'danceability': 0.628,\n",
       "  'energy': 0.692,\n",
       "  'key': 2,\n",
       "  'loudness': -5.64,\n",
       "  'mode': 1,\n",
       "  'speechiness': 0.202,\n",
       "  'acousticness': 0.00244,\n",
       "  'instrumentalness': 0.0129,\n",
       "  'liveness': 0.668,\n",
       "  'valence': 0.0963,\n",
       "  'tempo': 124.887,\n",
       "  'type': 'audio_features',\n",
       "  'id': '1ZHYJ2Wwgxes4m8Ba88PeK',\n",
       "  'uri': 'spotify:track:1ZHYJ2Wwgxes4m8Ba88PeK',\n",
       "  'track_href': 'https://api.spotify.com/v1/tracks/1ZHYJ2Wwgxes4m8Ba88PeK',\n",
       "  'analysis_url': 'https://api.spotify.com/v1/audio-analysis/1ZHYJ2Wwgxes4m8Ba88PeK',\n",
       "  'duration_ms': 378893,\n",
       "  'time_signature': 5},\n",
       " {'danceability': 0.474,\n",
       "  'energy': 0.739,\n",
       "  'key': 2,\n",
       "  'loudness': -4.937,\n",
       "  'mode': 1,\n",
       "  'speechiness': 0.0451,\n",
       "  'acousticness': 0.0283,\n",
       "  'instrumentalness': 0,\n",
       "  'liveness': 0.299,\n",
       "  'valence': 0.253,\n",
       "  'tempo': 149.894,\n",
       "  'type': 'audio_features',\n",
       "  'id': '3MxJGBnYaP4yQYUv90HLqZ',\n",
       "  'uri': 'spotify:track:3MxJGBnYaP4yQYUv90HLqZ',\n",
       "  'track_href': 'https://api.spotify.com/v1/tracks/3MxJGBnYaP4yQYUv90HLqZ',\n",
       "  'analysis_url': 'https://api.spotify.com/v1/audio-analysis/3MxJGBnYaP4yQYUv90HLqZ',\n",
       "  'duration_ms': 262640,\n",
       "  'time_signature': 4},\n",
       " {'danceability': 0.783,\n",
       "  'energy': 0.58,\n",
       "  'key': 7,\n",
       "  'loudness': -6.548,\n",
       "  'mode': 1,\n",
       "  'speechiness': 0.0408,\n",
       "  'acousticness': 0.0114,\n",
       "  'instrumentalness': 2.28e-06,\n",
       "  'liveness': 0.108,\n",
       "  'valence': 0.66,\n",
       "  'tempo': 120.021,\n",
       "  'type': 'audio_features',\n",
       "  'id': '20I6sIOMTCkB6w7ryavxtO',\n",
       "  'uri': 'spotify:track:20I6sIOMTCkB6w7ryavxtO',\n",
       "  'track_href': 'https://api.spotify.com/v1/tracks/20I6sIOMTCkB6w7ryavxtO',\n",
       "  'analysis_url': 'https://api.spotify.com/v1/audio-analysis/20I6sIOMTCkB6w7ryavxtO',\n",
       "  'duration_ms': 193400,\n",
       "  'time_signature': 4},\n",
       " {'danceability': 0.762,\n",
       "  'energy': 0.702,\n",
       "  'key': 0,\n",
       "  'loudness': -5.87,\n",
       "  'mode': 1,\n",
       "  'speechiness': 0.0432,\n",
       "  'acousticness': 0.0167,\n",
       "  'instrumentalness': 0,\n",
       "  'liveness': 0.314,\n",
       "  'valence': 0.898,\n",
       "  'tempo': 127.029,\n",
       "  'type': 'audio_features',\n",
       "  'id': '0jDWRUbxSn8zQlwFbeLHwo',\n",
       "  'uri': 'spotify:track:0jDWRUbxSn8zQlwFbeLHwo',\n",
       "  'track_href': 'https://api.spotify.com/v1/tracks/0jDWRUbxSn8zQlwFbeLHwo',\n",
       "  'analysis_url': 'https://api.spotify.com/v1/audio-analysis/0jDWRUbxSn8zQlwFbeLHwo',\n",
       "  'duration_ms': 207200,\n",
       "  'time_signature': 4},\n",
       " {'danceability': 0.713,\n",
       "  'energy': 0.526,\n",
       "  'key': 1,\n",
       "  'loudness': -5.046,\n",
       "  'mode': 1,\n",
       "  'speechiness': 0.032,\n",
       "  'acousticness': 0.00767,\n",
       "  'instrumentalness': 0.000148,\n",
       "  'liveness': 0.124,\n",
       "  'valence': 0.131,\n",
       "  'tempo': 131.05,\n",
       "  'type': 'audio_features',\n",
       "  'id': '1wHZx0LgzFHyeIZkUydNXq',\n",
       "  'uri': 'spotify:track:1wHZx0LgzFHyeIZkUydNXq',\n",
       "  'track_href': 'https://api.spotify.com/v1/tracks/1wHZx0LgzFHyeIZkUydNXq',\n",
       "  'analysis_url': 'https://api.spotify.com/v1/audio-analysis/1wHZx0LgzFHyeIZkUydNXq',\n",
       "  'duration_ms': 262693,\n",
       "  'time_signature': 4},\n",
       " {'danceability': 0.439,\n",
       "  'energy': 0.422,\n",
       "  'key': 8,\n",
       "  'loudness': -17.227,\n",
       "  'mode': 1,\n",
       "  'speechiness': 0.0409,\n",
       "  'acousticness': 0.0148,\n",
       "  'instrumentalness': 4.84e-05,\n",
       "  'liveness': 0.0697,\n",
       "  'valence': 0.551,\n",
       "  'tempo': 81.833,\n",
       "  'type': 'audio_features',\n",
       "  'id': '7G7tgVYORlDuVprcYHuFJh',\n",
       "  'uri': 'spotify:track:7G7tgVYORlDuVprcYHuFJh',\n",
       "  'track_href': 'https://api.spotify.com/v1/tracks/7G7tgVYORlDuVprcYHuFJh',\n",
       "  'analysis_url': 'https://api.spotify.com/v1/audio-analysis/7G7tgVYORlDuVprcYHuFJh',\n",
       "  'duration_ms': 236933,\n",
       "  'time_signature': 4},\n",
       " {'danceability': 0.489,\n",
       "  'energy': 0.917,\n",
       "  'key': 8,\n",
       "  'loudness': -4.097,\n",
       "  'mode': 1,\n",
       "  'speechiness': 0.132,\n",
       "  'acousticness': 0.00891,\n",
       "  'instrumentalness': 0,\n",
       "  'liveness': 0.184,\n",
       "  'valence': 0.772,\n",
       "  'tempo': 167.57,\n",
       "  'type': 'audio_features',\n",
       "  'id': '3MN0pucJbbFmqgvPcoC1Eb',\n",
       "  'uri': 'spotify:track:3MN0pucJbbFmqgvPcoC1Eb',\n",
       "  'track_href': 'https://api.spotify.com/v1/tracks/3MN0pucJbbFmqgvPcoC1Eb',\n",
       "  'analysis_url': 'https://api.spotify.com/v1/audio-analysis/3MN0pucJbbFmqgvPcoC1Eb',\n",
       "  'duration_ms': 190560,\n",
       "  'time_signature': 4},\n",
       " {'danceability': 0.844,\n",
       "  'energy': 0.601,\n",
       "  'key': 1,\n",
       "  'loudness': -5.283,\n",
       "  'mode': 1,\n",
       "  'speechiness': 0.157,\n",
       "  'acousticness': 0.0205,\n",
       "  'instrumentalness': 0,\n",
       "  'liveness': 0.385,\n",
       "  'valence': 0.331,\n",
       "  'tempo': 73.989,\n",
       "  'type': 'audio_features',\n",
       "  'id': '4AYX69oFP3UOS1CFmV9UfO',\n",
       "  'uri': 'spotify:track:4AYX69oFP3UOS1CFmV9UfO',\n",
       "  'track_href': 'https://api.spotify.com/v1/tracks/4AYX69oFP3UOS1CFmV9UfO',\n",
       "  'analysis_url': 'https://api.spotify.com/v1/audio-analysis/4AYX69oFP3UOS1CFmV9UfO',\n",
       "  'duration_ms': 242013,\n",
       "  'time_signature': 4},\n",
       " {'danceability': 0.648,\n",
       "  'energy': 0.836,\n",
       "  'key': 8,\n",
       "  'loudness': -3.394,\n",
       "  'mode': 1,\n",
       "  'speechiness': 0.0316,\n",
       "  'acousticness': 0.0625,\n",
       "  'instrumentalness': 0.00995,\n",
       "  'liveness': 0.202,\n",
       "  'valence': 0.705,\n",
       "  'tempo': 126.889,\n",
       "  'type': 'audio_features',\n",
       "  'id': '2jATUzETZL49e6SywauZKE',\n",
       "  'uri': 'spotify:track:2jATUzETZL49e6SywauZKE',\n",
       "  'track_href': 'https://api.spotify.com/v1/tracks/2jATUzETZL49e6SywauZKE',\n",
       "  'analysis_url': 'https://api.spotify.com/v1/audio-analysis/2jATUzETZL49e6SywauZKE',\n",
       "  'duration_ms': 183560,\n",
       "  'time_signature': 4},\n",
       " {'danceability': 0.543,\n",
       "  'energy': 0.87,\n",
       "  'key': 9,\n",
       "  'loudness': -6.514,\n",
       "  'mode': 1,\n",
       "  'speechiness': 0.0428,\n",
       "  'acousticness': 0.358,\n",
       "  'instrumentalness': 0.000939,\n",
       "  'liveness': 0.792,\n",
       "  'valence': 0.754,\n",
       "  'tempo': 100.804,\n",
       "  'type': 'audio_features',\n",
       "  'id': '0GjEhVFGZW8afUYGChu3Rr',\n",
       "  'uri': 'spotify:track:0GjEhVFGZW8afUYGChu3Rr',\n",
       "  'track_href': 'https://api.spotify.com/v1/tracks/0GjEhVFGZW8afUYGChu3Rr',\n",
       "  'analysis_url': 'https://api.spotify.com/v1/audio-analysis/0GjEhVFGZW8afUYGChu3Rr',\n",
       "  'duration_ms': 230400,\n",
       "  'time_signature': 4}]"
      ]
     },
     "execution_count": 14,
     "metadata": {},
     "output_type": "execute_result"
    }
   ],
   "source": [
    "list_of_audio_features"
   ]
  },
  {
   "cell_type": "code",
   "execution_count": 10,
   "metadata": {},
   "outputs": [
    {
     "name": "stdout",
     "output_type": "stream",
     "text": [
      "0pQskrTITgmCMyr85tb9qq\n"
     ]
    }
   ],
   "source": [
    "print(tracks[item][\"track\"][\"id\"])"
   ]
  },
  {
   "cell_type": "code",
   "execution_count": 10,
   "metadata": {
    "scrolled": true
   },
   "outputs": [
    {
     "data": {
      "text/html": [
       "<div>\n",
       "<style scoped>\n",
       "    .dataframe tbody tr th:only-of-type {\n",
       "        vertical-align: middle;\n",
       "    }\n",
       "\n",
       "    .dataframe tbody tr th {\n",
       "        vertical-align: top;\n",
       "    }\n",
       "\n",
       "    .dataframe thead th {\n",
       "        text-align: right;\n",
       "    }\n",
       "</style>\n",
       "<table border=\"1\" class=\"dataframe\">\n",
       "  <thead>\n",
       "    <tr style=\"text-align: right;\">\n",
       "      <th></th>\n",
       "      <th>danceability</th>\n",
       "      <th>energy</th>\n",
       "      <th>loudness</th>\n",
       "      <th>speechiness</th>\n",
       "      <th>acousticness</th>\n",
       "      <th>instrumentalness</th>\n",
       "      <th>liveness</th>\n",
       "      <th>valence</th>\n",
       "      <th>tempo</th>\n",
       "      <th>id</th>\n",
       "      <th>duration_ms</th>\n",
       "    </tr>\n",
       "  </thead>\n",
       "  <tbody>\n",
       "    <tr>\n",
       "      <th>0</th>\n",
       "      <td>0.611</td>\n",
       "      <td>0.319</td>\n",
       "      <td>-10.743</td>\n",
       "      <td>0.0357</td>\n",
       "      <td>0.81500</td>\n",
       "      <td>0.015100</td>\n",
       "      <td>0.108</td>\n",
       "      <td>0.1760</td>\n",
       "      <td>124.920</td>\n",
       "      <td>6dtWKqqdveI3YvdYJQKWWn</td>\n",
       "      <td>226653</td>\n",
       "    </tr>\n",
       "    <tr>\n",
       "      <th>1</th>\n",
       "      <td>0.583</td>\n",
       "      <td>0.610</td>\n",
       "      <td>-5.639</td>\n",
       "      <td>0.0382</td>\n",
       "      <td>0.00425</td>\n",
       "      <td>0.000105</td>\n",
       "      <td>0.140</td>\n",
       "      <td>0.3360</td>\n",
       "      <td>114.060</td>\n",
       "      <td>3uwnnTQcHM1rDqSfA4gQNz</td>\n",
       "      <td>214740</td>\n",
       "    </tr>\n",
       "    <tr>\n",
       "      <th>2</th>\n",
       "      <td>0.700</td>\n",
       "      <td>0.709</td>\n",
       "      <td>-5.006</td>\n",
       "      <td>0.0838</td>\n",
       "      <td>0.00480</td>\n",
       "      <td>0.000000</td>\n",
       "      <td>0.029</td>\n",
       "      <td>0.6240</td>\n",
       "      <td>122.019</td>\n",
       "      <td>1gv4xPanImH17bKZ9rOveR</td>\n",
       "      <td>202960</td>\n",
       "    </tr>\n",
       "    <tr>\n",
       "      <th>3</th>\n",
       "      <td>0.547</td>\n",
       "      <td>0.895</td>\n",
       "      <td>-4.693</td>\n",
       "      <td>0.0408</td>\n",
       "      <td>0.00226</td>\n",
       "      <td>0.000692</td>\n",
       "      <td>0.184</td>\n",
       "      <td>0.4970</td>\n",
       "      <td>90.000</td>\n",
       "      <td>6xBQEW4ge9OlbYUt5IVyVz</td>\n",
       "      <td>198973</td>\n",
       "    </tr>\n",
       "    <tr>\n",
       "      <th>4</th>\n",
       "      <td>0.628</td>\n",
       "      <td>0.692</td>\n",
       "      <td>-5.640</td>\n",
       "      <td>0.2020</td>\n",
       "      <td>0.00244</td>\n",
       "      <td>0.012900</td>\n",
       "      <td>0.668</td>\n",
       "      <td>0.0963</td>\n",
       "      <td>124.887</td>\n",
       "      <td>1ZHYJ2Wwgxes4m8Ba88PeK</td>\n",
       "      <td>378893</td>\n",
       "    </tr>\n",
       "    <tr>\n",
       "      <th>...</th>\n",
       "      <td>...</td>\n",
       "      <td>...</td>\n",
       "      <td>...</td>\n",
       "      <td>...</td>\n",
       "      <td>...</td>\n",
       "      <td>...</td>\n",
       "      <td>...</td>\n",
       "      <td>...</td>\n",
       "      <td>...</td>\n",
       "      <td>...</td>\n",
       "      <td>...</td>\n",
       "    </tr>\n",
       "    <tr>\n",
       "      <th>1095</th>\n",
       "      <td>0.741</td>\n",
       "      <td>0.580</td>\n",
       "      <td>-9.050</td>\n",
       "      <td>0.0304</td>\n",
       "      <td>0.11700</td>\n",
       "      <td>0.000033</td>\n",
       "      <td>0.212</td>\n",
       "      <td>0.9440</td>\n",
       "      <td>127.402</td>\n",
       "      <td>0vOkmmJEtjuFZDzrQSFzEE</td>\n",
       "      <td>171267</td>\n",
       "    </tr>\n",
       "    <tr>\n",
       "      <th>1096</th>\n",
       "      <td>0.613</td>\n",
       "      <td>0.487</td>\n",
       "      <td>-8.781</td>\n",
       "      <td>0.0935</td>\n",
       "      <td>0.41200</td>\n",
       "      <td>0.000010</td>\n",
       "      <td>0.286</td>\n",
       "      <td>0.6990</td>\n",
       "      <td>143.332</td>\n",
       "      <td>5haXbSJqjjM0TCJ5XkfEaC</td>\n",
       "      <td>165800</td>\n",
       "    </tr>\n",
       "    <tr>\n",
       "      <th>1097</th>\n",
       "      <td>0.740</td>\n",
       "      <td>0.415</td>\n",
       "      <td>-11.429</td>\n",
       "      <td>0.0594</td>\n",
       "      <td>0.28800</td>\n",
       "      <td>0.534000</td>\n",
       "      <td>0.103</td>\n",
       "      <td>0.1530</td>\n",
       "      <td>89.997</td>\n",
       "      <td>3lML37ujKr8GdxQqCYkCoz</td>\n",
       "      <td>168000</td>\n",
       "    </tr>\n",
       "    <tr>\n",
       "      <th>1098</th>\n",
       "      <td>0.631</td>\n",
       "      <td>0.697</td>\n",
       "      <td>-7.625</td>\n",
       "      <td>0.0454</td>\n",
       "      <td>0.36400</td>\n",
       "      <td>0.002850</td>\n",
       "      <td>0.115</td>\n",
       "      <td>0.2770</td>\n",
       "      <td>149.954</td>\n",
       "      <td>7cXVAtKlhVQdNQNzXUFLFv</td>\n",
       "      <td>207787</td>\n",
       "    </tr>\n",
       "    <tr>\n",
       "      <th>1099</th>\n",
       "      <td>0.670</td>\n",
       "      <td>0.764</td>\n",
       "      <td>-5.730</td>\n",
       "      <td>0.1310</td>\n",
       "      <td>0.46800</td>\n",
       "      <td>0.000005</td>\n",
       "      <td>0.149</td>\n",
       "      <td>0.2390</td>\n",
       "      <td>140.052</td>\n",
       "      <td>1lczUVx6gkAhEUPvcROXYR</td>\n",
       "      <td>230120</td>\n",
       "    </tr>\n",
       "  </tbody>\n",
       "</table>\n",
       "<p>1100 rows × 11 columns</p>\n",
       "</div>"
      ],
      "text/plain": [
       "      danceability  energy  loudness  speechiness  acousticness  \\\n",
       "0            0.611   0.319   -10.743       0.0357       0.81500   \n",
       "1            0.583   0.610    -5.639       0.0382       0.00425   \n",
       "2            0.700   0.709    -5.006       0.0838       0.00480   \n",
       "3            0.547   0.895    -4.693       0.0408       0.00226   \n",
       "4            0.628   0.692    -5.640       0.2020       0.00244   \n",
       "...            ...     ...       ...          ...           ...   \n",
       "1095         0.741   0.580    -9.050       0.0304       0.11700   \n",
       "1096         0.613   0.487    -8.781       0.0935       0.41200   \n",
       "1097         0.740   0.415   -11.429       0.0594       0.28800   \n",
       "1098         0.631   0.697    -7.625       0.0454       0.36400   \n",
       "1099         0.670   0.764    -5.730       0.1310       0.46800   \n",
       "\n",
       "      instrumentalness  liveness  valence    tempo                      id  \\\n",
       "0             0.015100     0.108   0.1760  124.920  6dtWKqqdveI3YvdYJQKWWn   \n",
       "1             0.000105     0.140   0.3360  114.060  3uwnnTQcHM1rDqSfA4gQNz   \n",
       "2             0.000000     0.029   0.6240  122.019  1gv4xPanImH17bKZ9rOveR   \n",
       "3             0.000692     0.184   0.4970   90.000  6xBQEW4ge9OlbYUt5IVyVz   \n",
       "4             0.012900     0.668   0.0963  124.887  1ZHYJ2Wwgxes4m8Ba88PeK   \n",
       "...                ...       ...      ...      ...                     ...   \n",
       "1095          0.000033     0.212   0.9440  127.402  0vOkmmJEtjuFZDzrQSFzEE   \n",
       "1096          0.000010     0.286   0.6990  143.332  5haXbSJqjjM0TCJ5XkfEaC   \n",
       "1097          0.534000     0.103   0.1530   89.997  3lML37ujKr8GdxQqCYkCoz   \n",
       "1098          0.002850     0.115   0.2770  149.954  7cXVAtKlhVQdNQNzXUFLFv   \n",
       "1099          0.000005     0.149   0.2390  140.052  1lczUVx6gkAhEUPvcROXYR   \n",
       "\n",
       "      duration_ms  \n",
       "0          226653  \n",
       "1          214740  \n",
       "2          202960  \n",
       "3          198973  \n",
       "4          378893  \n",
       "...           ...  \n",
       "1095       171267  \n",
       "1096       165800  \n",
       "1097       168000  \n",
       "1098       207787  \n",
       "1099       230120  \n",
       "\n",
       "[1100 rows x 11 columns]"
      ]
     },
     "execution_count": 10,
     "metadata": {},
     "output_type": "execute_result"
    }
   ],
   "source": [
    "df=pd.DataFrame(list_of_audio_features)    \n",
    "df=df[[\"danceability\",\"energy\",\"loudness\",\"speechiness\",\"acousticness\",\n",
    "    \"instrumentalness\",\"liveness\",\"valence\",\"tempo\",\"id\",\"duration_ms\"]]\n",
    "\n",
    "df"
   ]
  },
  {
   "cell_type": "code",
   "execution_count": 12,
   "metadata": {},
   "outputs": [
    {
     "ename": "AttributeError",
     "evalue": "'NoneType' object has no attribute 'keys'",
     "output_type": "error",
     "traceback": [
      "\u001b[1;31m---------------------------------------------------------------------------\u001b[0m",
      "\u001b[1;31mAttributeError\u001b[0m                            Traceback (most recent call last)",
      "\u001b[1;32m~\\AppData\\Local\\Temp\\ipykernel_7264\\1720480785.py\u001b[0m in \u001b[0;36m<module>\u001b[1;34m\u001b[0m\n\u001b[0;32m      8\u001b[0m \u001b[1;33m\u001b[0m\u001b[0m\n\u001b[0;32m      9\u001b[0m \u001b[1;31m# Create DataFrame with audio features\u001b[0m\u001b[1;33m\u001b[0m\u001b[1;33m\u001b[0m\u001b[0m\n\u001b[1;32m---> 10\u001b[1;33m \u001b[0mdf\u001b[0m \u001b[1;33m=\u001b[0m \u001b[0mpd\u001b[0m\u001b[1;33m.\u001b[0m\u001b[0mDataFrame\u001b[0m\u001b[1;33m(\u001b[0m\u001b[0mlist_of_audio_features\u001b[0m\u001b[1;33m)\u001b[0m\u001b[1;33m\u001b[0m\u001b[1;33m\u001b[0m\u001b[0m\n\u001b[0m\u001b[0;32m     11\u001b[0m \u001b[1;33m\u001b[0m\u001b[0m\n\u001b[0;32m     12\u001b[0m \u001b[1;31m# Select only the columns you need\u001b[0m\u001b[1;33m\u001b[0m\u001b[1;33m\u001b[0m\u001b[0m\n",
      "\u001b[1;32m~\\anaconda3\\lib\\site-packages\\pandas\\core\\frame.py\u001b[0m in \u001b[0;36m__init__\u001b[1;34m(self, data, index, columns, dtype, copy)\u001b[0m\n\u001b[0;32m    719\u001b[0m                         \u001b[1;31m# ndarray], Index, Series], Sequence[Any]]\"\u001b[0m\u001b[1;33m\u001b[0m\u001b[1;33m\u001b[0m\u001b[0m\n\u001b[0;32m    720\u001b[0m                         \u001b[0mcolumns\u001b[0m \u001b[1;33m=\u001b[0m \u001b[0mensure_index\u001b[0m\u001b[1;33m(\u001b[0m\u001b[0mcolumns\u001b[0m\u001b[1;33m)\u001b[0m  \u001b[1;31m# type: ignore[arg-type]\u001b[0m\u001b[1;33m\u001b[0m\u001b[1;33m\u001b[0m\u001b[0m\n\u001b[1;32m--> 721\u001b[1;33m                     arrays, columns, index = nested_data_to_arrays(\n\u001b[0m\u001b[0;32m    722\u001b[0m                         \u001b[1;31m# error: Argument 3 to \"nested_data_to_arrays\" has incompatible\u001b[0m\u001b[1;33m\u001b[0m\u001b[1;33m\u001b[0m\u001b[0m\n\u001b[0;32m    723\u001b[0m                         \u001b[1;31m# type \"Optional[Collection[Any]]\"; expected \"Optional[Index]\"\u001b[0m\u001b[1;33m\u001b[0m\u001b[1;33m\u001b[0m\u001b[0m\n",
      "\u001b[1;32m~\\anaconda3\\lib\\site-packages\\pandas\\core\\internals\\construction.py\u001b[0m in \u001b[0;36mnested_data_to_arrays\u001b[1;34m(data, columns, index, dtype)\u001b[0m\n\u001b[0;32m    517\u001b[0m         \u001b[0mcolumns\u001b[0m \u001b[1;33m=\u001b[0m \u001b[0mensure_index\u001b[0m\u001b[1;33m(\u001b[0m\u001b[0mdata\u001b[0m\u001b[1;33m[\u001b[0m\u001b[1;36m0\u001b[0m\u001b[1;33m]\u001b[0m\u001b[1;33m.\u001b[0m\u001b[0m_fields\u001b[0m\u001b[1;33m)\u001b[0m\u001b[1;33m\u001b[0m\u001b[1;33m\u001b[0m\u001b[0m\n\u001b[0;32m    518\u001b[0m \u001b[1;33m\u001b[0m\u001b[0m\n\u001b[1;32m--> 519\u001b[1;33m     \u001b[0marrays\u001b[0m\u001b[1;33m,\u001b[0m \u001b[0mcolumns\u001b[0m \u001b[1;33m=\u001b[0m \u001b[0mto_arrays\u001b[0m\u001b[1;33m(\u001b[0m\u001b[0mdata\u001b[0m\u001b[1;33m,\u001b[0m \u001b[0mcolumns\u001b[0m\u001b[1;33m,\u001b[0m \u001b[0mdtype\u001b[0m\u001b[1;33m=\u001b[0m\u001b[0mdtype\u001b[0m\u001b[1;33m)\u001b[0m\u001b[1;33m\u001b[0m\u001b[1;33m\u001b[0m\u001b[0m\n\u001b[0m\u001b[0;32m    520\u001b[0m     \u001b[0mcolumns\u001b[0m \u001b[1;33m=\u001b[0m \u001b[0mensure_index\u001b[0m\u001b[1;33m(\u001b[0m\u001b[0mcolumns\u001b[0m\u001b[1;33m)\u001b[0m\u001b[1;33m\u001b[0m\u001b[1;33m\u001b[0m\u001b[0m\n\u001b[0;32m    521\u001b[0m \u001b[1;33m\u001b[0m\u001b[0m\n",
      "\u001b[1;32m~\\anaconda3\\lib\\site-packages\\pandas\\core\\internals\\construction.py\u001b[0m in \u001b[0;36mto_arrays\u001b[1;34m(data, columns, dtype)\u001b[0m\n\u001b[0;32m    873\u001b[0m         \u001b[0marr\u001b[0m \u001b[1;33m=\u001b[0m \u001b[0m_list_to_arrays\u001b[0m\u001b[1;33m(\u001b[0m\u001b[0mdata\u001b[0m\u001b[1;33m)\u001b[0m\u001b[1;33m\u001b[0m\u001b[1;33m\u001b[0m\u001b[0m\n\u001b[0;32m    874\u001b[0m     \u001b[1;32melif\u001b[0m \u001b[0misinstance\u001b[0m\u001b[1;33m(\u001b[0m\u001b[0mdata\u001b[0m\u001b[1;33m[\u001b[0m\u001b[1;36m0\u001b[0m\u001b[1;33m]\u001b[0m\u001b[1;33m,\u001b[0m \u001b[0mabc\u001b[0m\u001b[1;33m.\u001b[0m\u001b[0mMapping\u001b[0m\u001b[1;33m)\u001b[0m\u001b[1;33m:\u001b[0m\u001b[1;33m\u001b[0m\u001b[1;33m\u001b[0m\u001b[0m\n\u001b[1;32m--> 875\u001b[1;33m         \u001b[0marr\u001b[0m\u001b[1;33m,\u001b[0m \u001b[0mcolumns\u001b[0m \u001b[1;33m=\u001b[0m \u001b[0m_list_of_dict_to_arrays\u001b[0m\u001b[1;33m(\u001b[0m\u001b[0mdata\u001b[0m\u001b[1;33m,\u001b[0m \u001b[0mcolumns\u001b[0m\u001b[1;33m)\u001b[0m\u001b[1;33m\u001b[0m\u001b[1;33m\u001b[0m\u001b[0m\n\u001b[0m\u001b[0;32m    876\u001b[0m     \u001b[1;32melif\u001b[0m \u001b[0misinstance\u001b[0m\u001b[1;33m(\u001b[0m\u001b[0mdata\u001b[0m\u001b[1;33m[\u001b[0m\u001b[1;36m0\u001b[0m\u001b[1;33m]\u001b[0m\u001b[1;33m,\u001b[0m \u001b[0mABCSeries\u001b[0m\u001b[1;33m)\u001b[0m\u001b[1;33m:\u001b[0m\u001b[1;33m\u001b[0m\u001b[1;33m\u001b[0m\u001b[0m\n\u001b[0;32m    877\u001b[0m         \u001b[0marr\u001b[0m\u001b[1;33m,\u001b[0m \u001b[0mcolumns\u001b[0m \u001b[1;33m=\u001b[0m \u001b[0m_list_of_series_to_arrays\u001b[0m\u001b[1;33m(\u001b[0m\u001b[0mdata\u001b[0m\u001b[1;33m,\u001b[0m \u001b[0mcolumns\u001b[0m\u001b[1;33m)\u001b[0m\u001b[1;33m\u001b[0m\u001b[1;33m\u001b[0m\u001b[0m\n",
      "\u001b[1;32m~\\anaconda3\\lib\\site-packages\\pandas\\core\\internals\\construction.py\u001b[0m in \u001b[0;36m_list_of_dict_to_arrays\u001b[1;34m(data, columns)\u001b[0m\n\u001b[0;32m    958\u001b[0m         \u001b[0mgen\u001b[0m \u001b[1;33m=\u001b[0m \u001b[1;33m(\u001b[0m\u001b[0mlist\u001b[0m\u001b[1;33m(\u001b[0m\u001b[0mx\u001b[0m\u001b[1;33m.\u001b[0m\u001b[0mkeys\u001b[0m\u001b[1;33m(\u001b[0m\u001b[1;33m)\u001b[0m\u001b[1;33m)\u001b[0m \u001b[1;32mfor\u001b[0m \u001b[0mx\u001b[0m \u001b[1;32min\u001b[0m \u001b[0mdata\u001b[0m\u001b[1;33m)\u001b[0m\u001b[1;33m\u001b[0m\u001b[1;33m\u001b[0m\u001b[0m\n\u001b[0;32m    959\u001b[0m         \u001b[0msort\u001b[0m \u001b[1;33m=\u001b[0m \u001b[1;32mnot\u001b[0m \u001b[0many\u001b[0m\u001b[1;33m(\u001b[0m\u001b[0misinstance\u001b[0m\u001b[1;33m(\u001b[0m\u001b[0md\u001b[0m\u001b[1;33m,\u001b[0m \u001b[0mdict\u001b[0m\u001b[1;33m)\u001b[0m \u001b[1;32mfor\u001b[0m \u001b[0md\u001b[0m \u001b[1;32min\u001b[0m \u001b[0mdata\u001b[0m\u001b[1;33m)\u001b[0m\u001b[1;33m\u001b[0m\u001b[1;33m\u001b[0m\u001b[0m\n\u001b[1;32m--> 960\u001b[1;33m         \u001b[0mpre_cols\u001b[0m \u001b[1;33m=\u001b[0m \u001b[0mlib\u001b[0m\u001b[1;33m.\u001b[0m\u001b[0mfast_unique_multiple_list_gen\u001b[0m\u001b[1;33m(\u001b[0m\u001b[0mgen\u001b[0m\u001b[1;33m,\u001b[0m \u001b[0msort\u001b[0m\u001b[1;33m=\u001b[0m\u001b[0msort\u001b[0m\u001b[1;33m)\u001b[0m\u001b[1;33m\u001b[0m\u001b[1;33m\u001b[0m\u001b[0m\n\u001b[0m\u001b[0;32m    961\u001b[0m         \u001b[0mcolumns\u001b[0m \u001b[1;33m=\u001b[0m \u001b[0mensure_index\u001b[0m\u001b[1;33m(\u001b[0m\u001b[0mpre_cols\u001b[0m\u001b[1;33m)\u001b[0m\u001b[1;33m\u001b[0m\u001b[1;33m\u001b[0m\u001b[0m\n\u001b[0;32m    962\u001b[0m \u001b[1;33m\u001b[0m\u001b[0m\n",
      "\u001b[1;32m~\\anaconda3\\lib\\site-packages\\pandas\\_libs\\lib.pyx\u001b[0m in \u001b[0;36mpandas._libs.lib.fast_unique_multiple_list_gen\u001b[1;34m()\u001b[0m\n",
      "\u001b[1;32m~\\anaconda3\\lib\\site-packages\\pandas\\core\\internals\\construction.py\u001b[0m in \u001b[0;36m<genexpr>\u001b[1;34m(.0)\u001b[0m\n\u001b[0;32m    956\u001b[0m     \"\"\"\n\u001b[0;32m    957\u001b[0m     \u001b[1;32mif\u001b[0m \u001b[0mcolumns\u001b[0m \u001b[1;32mis\u001b[0m \u001b[1;32mNone\u001b[0m\u001b[1;33m:\u001b[0m\u001b[1;33m\u001b[0m\u001b[1;33m\u001b[0m\u001b[0m\n\u001b[1;32m--> 958\u001b[1;33m         \u001b[0mgen\u001b[0m \u001b[1;33m=\u001b[0m \u001b[1;33m(\u001b[0m\u001b[0mlist\u001b[0m\u001b[1;33m(\u001b[0m\u001b[0mx\u001b[0m\u001b[1;33m.\u001b[0m\u001b[0mkeys\u001b[0m\u001b[1;33m(\u001b[0m\u001b[1;33m)\u001b[0m\u001b[1;33m)\u001b[0m \u001b[1;32mfor\u001b[0m \u001b[0mx\u001b[0m \u001b[1;32min\u001b[0m \u001b[0mdata\u001b[0m\u001b[1;33m)\u001b[0m\u001b[1;33m\u001b[0m\u001b[1;33m\u001b[0m\u001b[0m\n\u001b[0m\u001b[0;32m    959\u001b[0m         \u001b[0msort\u001b[0m \u001b[1;33m=\u001b[0m \u001b[1;32mnot\u001b[0m \u001b[0many\u001b[0m\u001b[1;33m(\u001b[0m\u001b[0misinstance\u001b[0m\u001b[1;33m(\u001b[0m\u001b[0md\u001b[0m\u001b[1;33m,\u001b[0m \u001b[0mdict\u001b[0m\u001b[1;33m)\u001b[0m \u001b[1;32mfor\u001b[0m \u001b[0md\u001b[0m \u001b[1;32min\u001b[0m \u001b[0mdata\u001b[0m\u001b[1;33m)\u001b[0m\u001b[1;33m\u001b[0m\u001b[1;33m\u001b[0m\u001b[0m\n\u001b[0;32m    960\u001b[0m         \u001b[0mpre_cols\u001b[0m \u001b[1;33m=\u001b[0m \u001b[0mlib\u001b[0m\u001b[1;33m.\u001b[0m\u001b[0mfast_unique_multiple_list_gen\u001b[0m\u001b[1;33m(\u001b[0m\u001b[0mgen\u001b[0m\u001b[1;33m,\u001b[0m \u001b[0msort\u001b[0m\u001b[1;33m=\u001b[0m\u001b[0msort\u001b[0m\u001b[1;33m)\u001b[0m\u001b[1;33m\u001b[0m\u001b[1;33m\u001b[0m\u001b[0m\n",
      "\u001b[1;31mAttributeError\u001b[0m: 'NoneType' object has no attribute 'keys'"
     ]
    }
   ],
   "source": [
    "# Retrieve tracks from playlist\n",
    "tracks = get_playlist_tracks(\"spotify\", \"6VaNNtZuGdbQ3GMNnhPl9e\")\n",
    "\n",
    "# Retrieve audio features for each track\n",
    "list_of_audio_features = []\n",
    "for item in range(0, len(tracks)):\n",
    "    list_of_audio_features.append(sp.audio_features(tracks[item][\"track\"][\"id\"])[0])\n",
    "\n",
    "# Create DataFrame with audio features\n",
    "df = pd.DataFrame(list_of_audio_features)\n",
    "\n",
    "# Select only the columns you need\n",
    "df = df[[\"danceability\",\"energy\",\"loudness\",\"speechiness\",\"acousticness\",\n",
    "         \"instrumentalness\",\"liveness\",\"valence\",\"tempo\",\"id\",\"duration_ms\"]]\n",
    "\n",
    "# Append additional rows to the DataFrame\n",
    "for item in range(len(tracks), 2599):\n",
    "    list_of_audio_features.append(sp.audio_features(tracks[item][\"track\"][\"id\"])[0])\n",
    "    df = df.append(list_of_audio_features, ignore_index=True)\n",
    "df"
   ]
  },
  {
   "cell_type": "code",
   "execution_count": null,
   "metadata": {},
   "outputs": [],
   "source": [
    "import pprint\n",
    "pprint.pprint(results)"
   ]
  },
  {
   "cell_type": "code",
   "execution_count": null,
   "metadata": {},
   "outputs": [],
   "source": [
    "results[\"tracks\"][\"items\"][0][\"album\"][\"artists\"][0][\"id\"]\n",
    "# [0] because i access first item of list [{...\n",
    "# [\"id\"] is key because i access dictionary {..."
   ]
  },
  {
   "cell_type": "code",
   "execution_count": null,
   "metadata": {},
   "outputs": [],
   "source": [
    "results[\"tracks\"][\"items\"][0][\"external_urls\"][\"spotify\"]"
   ]
  },
  {
   "cell_type": "code",
   "execution_count": null,
   "metadata": {},
   "outputs": [],
   "source": [
    "track_id=track_id=results[\"tracks\"][\"items\"][0][\"id\"]\n",
    "track_id"
   ]
  },
  {
   "cell_type": "markdown",
   "metadata": {},
   "source": [
    "## Embeded track player"
   ]
  },
  {
   "cell_type": "markdown",
   "metadata": {
    "id": "DLMGLXLm2e-1"
   },
   "source": [
    "{'spotify': https://open.spotify.com/track/4O2N861eOnF9q8EtpH8IJu"
   ]
  },
  {
   "cell_type": "code",
   "execution_count": null,
   "metadata": {},
   "outputs": [],
   "source": [
    "from IPython.display import IFrame\n",
    "\n",
    "#track_id = \"1rfORa9iYmocEsnnZGMVC4\"\n",
    "#track_id= 'spotify:track:3hgl7EQwTutSm6PESsB7gZ'\n",
    "IFrame(src=\"https://open.spotify.com/embed/track/\"+track_id,\n",
    "       width=\"320\",\n",
    "       height=\"80\",\n",
    "       frameborder=\"0\",\n",
    "       allowtransparency=\"true\",\n",
    "       allow=\"encrypted-media\",\n",
    "      )"
   ]
  },
  {
   "cell_type": "code",
   "execution_count": null,
   "metadata": {},
   "outputs": [],
   "source": [
    "def play_song(track_id):\n",
    "    return IFrame(src=\"https://open.spotify.com/embed/track/\"+track_id,\n",
    "       width=\"320\",\n",
    "       height=\"80\",\n",
    "       frameborder=\"0\",\n",
    "       allowtransparency=\"true\",\n",
    "       allow=\"encrypted-media\",\n",
    "      )"
   ]
  },
  {
   "cell_type": "markdown",
   "metadata": {},
   "source": [
    "<b> navigating through the dictionary.."
   ]
  },
  {
   "cell_type": "code",
   "execution_count": null,
   "metadata": {
    "colab": {
     "base_uri": "https://localhost:8080/"
    },
    "executionInfo": {
     "elapsed": 301,
     "status": "ok",
     "timestamp": 1623747137302,
     "user": {
      "displayName": "Ignacio Soteras",
      "photoUrl": "",
      "userId": "02050793736257155229"
     },
     "user_tz": -120
    },
    "id": "MGMBXO7RX4zX",
    "outputId": "7c51a5d5-6765-4198-ba53-55df9cb000fd"
   },
   "outputs": [],
   "source": [
    "results.keys()"
   ]
  },
  {
   "cell_type": "code",
   "execution_count": null,
   "metadata": {
    "colab": {
     "base_uri": "https://localhost:8080/"
    },
    "executionInfo": {
     "elapsed": 286,
     "status": "ok",
     "timestamp": 1623747145364,
     "user": {
      "displayName": "Ignacio Soteras",
      "photoUrl": "",
      "userId": "02050793736257155229"
     },
     "user_tz": -120
    },
    "id": "WcH0WXJ3X97h",
    "outputId": "9c300954-c083-4ee4-a0d0-8004825809d6"
   },
   "outputs": [],
   "source": [
    "results['tracks'][\"items\"][0].keys()"
   ]
  },
  {
   "cell_type": "markdown",
   "metadata": {},
   "source": [
    "<b> more readable version"
   ]
  },
  {
   "cell_type": "code",
   "execution_count": null,
   "metadata": {
    "colab": {
     "base_uri": "https://localhost:8080/"
    },
    "executionInfo": {
     "elapsed": 371,
     "status": "ok",
     "timestamp": 1623747326810,
     "user": {
      "displayName": "Ignacio Soteras",
      "photoUrl": "",
      "userId": "02050793736257155229"
     },
     "user_tz": -120
    },
    "id": "7zpZOuf74E3B",
    "outputId": "c6ea41eb-d414-41a7-d7aa-eb33dfd29823"
   },
   "outputs": [],
   "source": [
    "import pprint\n",
    "\n",
    "pprint.pprint(results)"
   ]
  },
  {
   "cell_type": "code",
   "execution_count": null,
   "metadata": {
    "colab": {
     "base_uri": "https://localhost:8080/"
    },
    "executionInfo": {
     "elapsed": 350,
     "status": "ok",
     "timestamp": 1623747150633,
     "user": {
      "displayName": "Ignacio Soteras",
      "photoUrl": "",
      "userId": "02050793736257155229"
     },
     "user_tz": -120
    },
    "id": "K975xBBkrehs",
    "outputId": "03ba1f52-1811-4154-da75-7034362d7e44"
   },
   "outputs": [],
   "source": [
    "results['tracks']['items'][0]"
   ]
  },
  {
   "cell_type": "code",
   "execution_count": null,
   "metadata": {
    "colab": {
     "base_uri": "https://localhost:8080/"
    },
    "executionInfo": {
     "elapsed": 311,
     "status": "ok",
     "timestamp": 1623747419610,
     "user": {
      "displayName": "Ignacio Soteras",
      "photoUrl": "",
      "userId": "02050793736257155229"
     },
     "user_tz": -120
    },
    "id": "1WsGXXCvYgo9",
    "outputId": "424f7111-f212-43ca-dd36-6a054bbc0a49"
   },
   "outputs": [],
   "source": [
    "results['tracks']['items'][0].keys()"
   ]
  },
  {
   "cell_type": "markdown",
   "metadata": {},
   "source": [
    "<b> getting the track id"
   ]
  },
  {
   "cell_type": "code",
   "execution_count": null,
   "metadata": {
    "colab": {
     "base_uri": "https://localhost:8080/",
     "height": 35
    },
    "executionInfo": {
     "elapsed": 8,
     "status": "ok",
     "timestamp": 1623747420976,
     "user": {
      "displayName": "Ignacio Soteras",
      "photoUrl": "",
      "userId": "02050793736257155229"
     },
     "user_tz": -120
    },
    "id": "-s66JnDcYrQ4",
    "outputId": "0745b73d-f912-4618-e28f-b22f70c40e4d"
   },
   "outputs": [],
   "source": [
    "results['tracks']['items'][0][\"id\"]"
   ]
  },
  {
   "cell_type": "code",
   "execution_count": null,
   "metadata": {
    "colab": {
     "base_uri": "https://localhost:8080/"
    },
    "executionInfo": {
     "elapsed": 330,
     "status": "ok",
     "timestamp": 1623747443303,
     "user": {
      "displayName": "Ignacio Soteras",
      "photoUrl": "",
      "userId": "02050793736257155229"
     },
     "user_tz": -120
    },
    "id": "Pe8hlEUPYu3a",
    "outputId": "57786b5a-1877-44a6-9249-72cec7204733"
   },
   "outputs": [],
   "source": [
    "for item in results['tracks']['items']:\n",
    "    print(\"The name of song is: '{}' and the id is: {}\".format(item['name'],item[\"id\"]))"
   ]
  },
  {
   "cell_type": "code",
   "execution_count": null,
   "metadata": {
    "colab": {
     "base_uri": "https://localhost:8080/",
     "height": 153
    },
    "executionInfo": {
     "elapsed": 343,
     "status": "ok",
     "timestamp": 1623748010778,
     "user": {
      "displayName": "Ignacio Soteras",
      "photoUrl": "",
      "userId": "02050793736257155229"
     },
     "user_tz": -120
    },
    "id": "ae3ey51ldj22",
    "outputId": "e12d9994-b937-4c19-f40c-2c594ed79c48",
    "scrolled": true
   },
   "outputs": [],
   "source": [
    "import pandas as pd\n",
    "\n",
    "song = sp.search(q=\"Bad Guy\", limit=50,market=\"GB\") \n",
    "song"
   ]
  },
  {
   "cell_type": "code",
   "execution_count": null,
   "metadata": {},
   "outputs": [],
   "source": [
    "song[\"tracks\"][\"items\"][2]"
   ]
  },
  {
   "cell_type": "code",
   "execution_count": null,
   "metadata": {},
   "outputs": [],
   "source": [
    "#pprint.pprint(song['tracks']['items'][0]['uri'])\n",
    "song[\"tracks\"][\"items\"][0][\"uri\"]"
   ]
  },
  {
   "cell_type": "markdown",
   "metadata": {
    "id": "wlYAUHZMGEPp"
   },
   "source": [
    "# Understanding the json"
   ]
  },
  {
   "cell_type": "markdown",
   "metadata": {
    "id": "PSk_-FAqDW4q"
   },
   "source": [
    "Understanding the hierachy of a JSON can make you mad. Therefore you can cosider using some online pages where you can paste your JSON file and see the \"tree\" structure of the file.\n",
    "\n",
    "https://codebeautify.org/jsonviewer\n",
    "\n",
    "So, copy the json output from the previous query and paste it on the website's left panel. On the right panel you will be able to see the hierachy of the json file."
   ]
  },
  {
   "cell_type": "markdown",
   "metadata": {
    "id": "TB8tYM3KEZSx"
   },
   "source": [
    "Let's get used to the json at hand."
   ]
  },
  {
   "cell_type": "code",
   "execution_count": null,
   "metadata": {
    "colab": {
     "base_uri": "https://localhost:8080/"
    },
    "executionInfo": {
     "elapsed": 336,
     "status": "ok",
     "timestamp": 1623748232522,
     "user": {
      "displayName": "Ignacio Soteras",
      "photoUrl": "",
      "userId": "02050793736257155229"
     },
     "user_tz": -120
    },
    "id": "gQzoV9fjEbm6",
    "outputId": "0747fac5-b2f5-44a0-a9cd-393ed3196cbf",
    "scrolled": true
   },
   "outputs": [],
   "source": [
    "print(\"The json file has the following keys: \",list(results.keys())) # We can see that we only have tracks\n",
    "print(\"The 'tracks' key has the following child keys: \",list(results[\"tracks\"].keys())) # Let's check the values\n",
    "print(\"The query we made is: \",results[\"tracks\"][\"href\"]) # Query we have searched \n",
    "print(\"The song's info is contained in: \",results[\"tracks\"][\"items\"]) #items (actual tracks)\n",
    "print(\"The limit of the query we've made is: \",results[\"tracks\"][\"limit\"]) #Limit we have chosen\n",
    "print(\"The next page if any: \",results[\"tracks\"][\"next\"]) #link to the next page (next 50 tracks)\n",
    "print(\"The starting webpage: \",results[\"tracks\"][\"offset\"]) # Actual offset (starting point)\n",
    "print(\"Starting webpage: \",results[\"tracks\"][\"previous\"]) #Previous search\n",
    "print(\"Total number of results: \",results[\"tracks\"][\"total\"]) # Number of matches"
   ]
  },
  {
   "cell_type": "markdown",
   "metadata": {
    "id": "ztXFl2wtGpBI"
   },
   "source": [
    "## Checking albums"
   ]
  },
  {
   "cell_type": "code",
   "execution_count": null,
   "metadata": {
    "colab": {
     "base_uri": "https://localhost:8080/"
    },
    "executionInfo": {
     "elapsed": 285,
     "status": "ok",
     "timestamp": 1623748499833,
     "user": {
      "displayName": "Ignacio Soteras",
      "photoUrl": "",
      "userId": "02050793736257155229"
     },
     "user_tz": -120
    },
    "id": "GHbz4J3JGrph",
    "outputId": "5a2bd5c0-4aab-43a0-b38d-c7885a2e2241"
   },
   "outputs": [],
   "source": [
    "print(results[\"tracks\"][\"items\"][0][\"album\"]) # we have more info about the album\n",
    "print(\"****************\\n\")\n",
    "print(list(results[\"tracks\"][\"items\"][0][\"album\"].keys())) # Will check artists, id, name, release date, total tracks \n",
    "print(\"****************\\n\")\n",
    "print(results[\"tracks\"][\"items\"][0][\"album\"][\"artists\"]) # List with artists and information\n",
    "print(\"****************\\n\")\n",
    "print(\"The album ID is: \",results[\"tracks\"][\"items\"][0][\"album\"][\"id\"]) # Album ID \n",
    "print(\"****************\\n\")\n",
    "print(results[\"tracks\"][\"items\"][0][\"album\"][\"name\"]) # Album name (if its a single u'll get the name of the song)"
   ]
  },
  {
   "cell_type": "markdown",
   "metadata": {
    "id": "ma33RhJ3GyyD"
   },
   "source": [
    "## Other Info"
   ]
  },
  {
   "cell_type": "code",
   "execution_count": null,
   "metadata": {
    "colab": {
     "base_uri": "https://localhost:8080/",
     "height": 35
    },
    "executionInfo": {
     "elapsed": 314,
     "status": "ok",
     "timestamp": 1623748532709,
     "user": {
      "displayName": "Ignacio Soteras",
      "photoUrl": "",
      "userId": "02050793736257155229"
     },
     "user_tz": -120
    },
    "id": "rpRcNkuhG1Ht",
    "outputId": "bb6cc417-17bd-404f-d31c-302a97bf9ffe"
   },
   "outputs": [],
   "source": [
    "results[\"tracks\"][\"items\"][0][\"artists\"] # Track artists\n",
    "results[\"tracks\"][\"items\"][0][\"id\"] # Track ID\n",
    "results[\"tracks\"][\"items\"][0][\"name\"] # Track name\n",
    "results[\"tracks\"][\"items\"][0][\"popularity\"] # Popularity index\n",
    "results[\"tracks\"][\"items\"][0][\"uri\"] # Basically ID"
   ]
  },
  {
   "cell_type": "markdown",
   "metadata": {},
   "source": [
    "# Getting the Audio feature of a song"
   ]
  },
  {
   "cell_type": "code",
   "execution_count": null,
   "metadata": {},
   "outputs": [],
   "source": [
    "results[\"tracks\"][\"items\"][0][\"id\"]"
   ]
  },
  {
   "cell_type": "code",
   "execution_count": null,
   "metadata": {},
   "outputs": [],
   "source": [
    "sp.audio_features(results[\"tracks\"][\"items\"][0][\"id\"] )"
   ]
  },
  {
   "cell_type": "code",
   "execution_count": null,
   "metadata": {},
   "outputs": [],
   "source": [
    "## example of bethoven song\n",
    "sp.audio_features(\"1Y25uib0Cu5kYTtNuRqyRU\")"
   ]
  },
  {
   "cell_type": "markdown",
   "metadata": {},
   "source": [
    "## building Data frame of audio features"
   ]
  },
  {
   "cell_type": "code",
   "execution_count": null,
   "metadata": {},
   "outputs": [],
   "source": [
    "sp.audio_features(song[\"tracks\"][\"items\"][0][\"uri\"])"
   ]
  },
  {
   "cell_type": "code",
   "execution_count": null,
   "metadata": {},
   "outputs": [],
   "source": [
    "list_of_songs"
   ]
  },
  {
   "cell_type": "code",
   "execution_count": null,
   "metadata": {},
   "outputs": [],
   "source": [
    "#my_dict = sp.audio_features(song[\"tracks\"][\"items\"][0][\"uri\"])[0] # you can provide a list of uri's\n",
    "\n",
    "list_of_songs=[]\n",
    "for index in range(0,len(song[\"tracks\"][\"items\"])):\n",
    "    list_of_songs.append(sp.audio_features(song[\"tracks\"][\"items\"][index][\"uri\"])[0])\n",
    "df=pd.DataFrame(list_of_songs)    \n",
    "df=df[[\"danceability\",\"energy\",\"loudness\",\"speechiness\",\"acousticness\",\n",
    "    \"instrumentalness\",\"liveness\",\"valence\",\"tempo\",\"id\",\"duration_ms\"]]\n",
    "\n",
    "df"
   ]
  },
  {
   "cell_type": "markdown",
   "metadata": {
    "id": "ZdgnthLDIDUz"
   },
   "source": [
    "## Searching a playlist"
   ]
  },
  {
   "cell_type": "code",
   "execution_count": null,
   "metadata": {
    "executionInfo": {
     "elapsed": 287,
     "status": "ok",
     "timestamp": 1623748573692,
     "user": {
      "displayName": "Ignacio Soteras",
      "photoUrl": "",
      "userId": "02050793736257155229"
     },
     "user_tz": -120
    },
    "id": "QFNoaLUpIAVg"
   },
   "outputs": [],
   "source": [
    "playlist = sp.user_playlist_tracks(\"spotify\", \"7beGd4yYY1qpsBv6K3clFZ\",market=\"GB\")"
   ]
  },
  {
   "cell_type": "code",
   "execution_count": null,
   "metadata": {
    "colab": {
     "base_uri": "https://localhost:8080/"
    },
    "executionInfo": {
     "elapsed": 4,
     "status": "ok",
     "timestamp": 1623748576469,
     "user": {
      "displayName": "Ignacio Soteras",
      "photoUrl": "",
      "userId": "02050793736257155229"
     },
     "user_tz": -120
    },
    "id": "hEmemxE9oDwa",
    "outputId": "fb5cd5d8-df90-45b9-e083-0fc52307b408"
   },
   "outputs": [],
   "source": [
    "playlist[\"items\"][0]"
   ]
  },
  {
   "cell_type": "markdown",
   "metadata": {},
   "source": [
    "## extracting a song from playlist"
   ]
  },
  {
   "cell_type": "code",
   "execution_count": null,
   "metadata": {},
   "outputs": [],
   "source": [
    "playlist[\"items\"][0][\"track\"][\"id\"]"
   ]
  },
  {
   "cell_type": "code",
   "execution_count": null,
   "metadata": {},
   "outputs": [],
   "source": [
    "play_song(playlist[\"items\"][0][\"track\"][\"id\"])"
   ]
  },
  {
   "cell_type": "code",
   "execution_count": null,
   "metadata": {
    "colab": {
     "base_uri": "https://localhost:8080/"
    },
    "executionInfo": {
     "elapsed": 363,
     "status": "ok",
     "timestamp": 1623748609799,
     "user": {
      "displayName": "Ignacio Soteras",
      "photoUrl": "",
      "userId": "02050793736257155229"
     },
     "user_tz": -120
    },
    "id": "wG-PfUCEIKvy",
    "outputId": "2c5135b8-7fa6-4f4f-c4d9-a35ed4f949d0"
   },
   "outputs": [],
   "source": [
    "print(list(playlist.keys())) # Let's look at items and total:\n",
    "print(\"Total number of songs in the playlist: \",playlist[\"total\"]) #  Let's check items:\n",
    "len(playlist[\"items\"]) # It is limited to 100 tracks, we will have to fix it:"
   ]
  },
  {
   "cell_type": "markdown",
   "metadata": {},
   "source": [
    "## Optional(Extra)"
   ]
  },
  {
   "cell_type": "markdown",
   "metadata": {
    "id": "0tlqOKWCJDq1"
   },
   "source": [
    "## Getting the artists of the playlist "
   ]
  },
  {
   "cell_type": "code",
   "execution_count": null,
   "metadata": {
    "executionInfo": {
     "elapsed": 410,
     "status": "ok",
     "timestamp": 1623748940470,
     "user": {
      "displayName": "Ignacio Soteras",
      "photoUrl": "",
      "userId": "02050793736257155229"
     },
     "user_tz": -120
    },
    "id": "idbmLYT7qTCG"
   },
   "outputs": [],
   "source": [
    "def get_artists_from_track(track):\n",
    "    return [artist[\"name\"] for artist in track[\"artists\"]]"
   ]
  },
  {
   "cell_type": "code",
   "execution_count": null,
   "metadata": {
    "executionInfo": {
     "elapsed": 278,
     "status": "ok",
     "timestamp": 1623748991105,
     "user": {
      "displayName": "Ignacio Soteras",
      "photoUrl": "",
      "userId": "02050793736257155229"
     },
     "user_tz": -120
    },
    "id": "VBm6PWerJH6A"
   },
   "outputs": [],
   "source": [
    "def get_artists_from_playlist(playlist_id):\n",
    "    tracks_from_playlist = get_playlist_tracks(\"spotify\", playlist_id)\n",
    "    return list(set(artist for subset in [get_artists_from_track(track[\"track\"]) for track in tracks_from_playlist] for artist in subset))"
   ]
  },
  {
   "cell_type": "code",
   "execution_count": null,
   "metadata": {
    "colab": {
     "base_uri": "https://localhost:8080/"
    },
    "executionInfo": {
     "elapsed": 8072,
     "status": "ok",
     "timestamp": 1623749004146,
     "user": {
      "displayName": "Ignacio Soteras",
      "photoUrl": "",
      "userId": "02050793736257155229"
     },
     "user_tz": -120
    },
    "id": "vMADuNRjCzYW",
    "outputId": "8ed416b0-c989-440f-a7b2-a51ea90177d9"
   },
   "outputs": [],
   "source": [
    "get_artists_from_playlist(\"4rnleEAOdmFAbRcNCgZMpY\")"
   ]
  },
  {
   "cell_type": "markdown",
   "metadata": {
    "id": "MBq_6MslLqN1"
   },
   "source": [
    "# Getting albums "
   ]
  },
  {
   "cell_type": "markdown",
   "metadata": {
    "id": "flAFNc16L7UA"
   },
   "source": [
    "In this section we will work with albums to extract information. We will start by extracting all the albums of an artist."
   ]
  },
  {
   "cell_type": "code",
   "execution_count": null,
   "metadata": {
    "executionInfo": {
     "elapsed": 338,
     "status": "ok",
     "timestamp": 1623749616116,
     "user": {
      "displayName": "Ignacio Soteras",
      "photoUrl": "",
      "userId": "02050793736257155229"
     },
     "user_tz": -120
    },
    "id": "aYMfWpqSL8cv"
   },
   "outputs": [],
   "source": [
    "def get_albums_from_artist(artist_id):\n",
    "    results = sp.artist_albums(artist_id, limit = 50,country=\"GB\")\n",
    "    tracks = results['items']\n",
    "    while results['next']:\n",
    "        results = sp.next(results)\n",
    "        tracks.extend(results['items'])\n",
    "    return tracks\n",
    "\n",
    "# Same for albums ids\n",
    "def get_album_ids_from_artist(artist_id):\n",
    "    results = sp.artist_albums(artist_id, limit = 50)\n",
    "    tracks = results['items']\n",
    "    while results['next']:\n",
    "        results = sp.next(results)\n",
    "        tracks.extend(results['items'])\n",
    "    return [track[\"id\"] for track in tracks]"
   ]
  },
  {
   "cell_type": "markdown",
   "metadata": {
    "id": "W4DVUzVGMBmY"
   },
   "source": [
    "Example: Coldplay"
   ]
  },
  {
   "cell_type": "code",
   "execution_count": null,
   "metadata": {
    "colab": {
     "base_uri": "https://localhost:8080/"
    },
    "executionInfo": {
     "elapsed": 2439,
     "status": "ok",
     "timestamp": 1623749664870,
     "user": {
      "displayName": "Ignacio Soteras",
      "photoUrl": "",
      "userId": "02050793736257155229"
     },
     "user_tz": -120
    },
    "id": "TIl4480OMDe2",
    "outputId": "7d894d55-79d9-4fa9-8773-ec4d399d2d02"
   },
   "outputs": [],
   "source": [
    "coldplay_id = \"4gzpq5DPGxSnKTe4SA8HAU\"\n",
    "coldplay_albums = get_albums_from_artist(coldplay_id)\n",
    "coldplay_album_ids = get_album_ids_from_artist(coldplay_id)\n",
    "\n",
    "# Check artists that played with coldplay\n",
    "set([artist[\"name\"] for track in coldplay_albums for artist in track[\"artists\"]])"
   ]
  },
  {
   "cell_type": "markdown",
   "metadata": {
    "id": "ljaglNRvMTL5"
   },
   "source": [
    "## Getting the songs of a given album"
   ]
  },
  {
   "cell_type": "code",
   "execution_count": null,
   "metadata": {
    "executionInfo": {
     "elapsed": 531,
     "status": "ok",
     "timestamp": 1623749740975,
     "user": {
      "displayName": "Ignacio Soteras",
      "photoUrl": "",
      "userId": "02050793736257155229"
     },
     "user_tz": -120
    },
    "id": "q3wKfrHbMWO3"
   },
   "outputs": [],
   "source": [
    "def get_track_ids_from_albums(album_ids):\n",
    "    return list(set([i[\"id\"] for j in album_ids for i in sp.album(j)[\"tracks\"][\"items\"]]))"
   ]
  },
  {
   "cell_type": "code",
   "execution_count": null,
   "metadata": {
    "colab": {
     "base_uri": "https://localhost:8080/"
    },
    "executionInfo": {
     "elapsed": 48724,
     "status": "ok",
     "timestamp": 1623749793320,
     "user": {
      "displayName": "Ignacio Soteras",
      "photoUrl": "",
      "userId": "02050793736257155229"
     },
     "user_tz": -120
    },
    "id": "WzZLGfwlMd2C",
    "outputId": "044a9334-ee0d-4a82-c8d4-577874c47d80"
   },
   "outputs": [],
   "source": [
    "coldplay_songs = get_track_ids_from_albums(coldplay_album_ids)\n",
    "\n",
    "len(coldplay_songs)"
   ]
  },
  {
   "cell_type": "code",
   "execution_count": null,
   "metadata": {},
   "outputs": [],
   "source": []
  }
 ],
 "metadata": {
  "colab": {
   "authorship_tag": "ABX9TyPVWC1t3Am5oxfsHrz0cF36",
   "mount_file_id": "1f3HsS5F0GzS75tlHyrwhBGlTWbE0nG4o",
   "name": "Code_along_Spotify_structure.ipynb",
   "provenance": []
  },
  "kernelspec": {
   "display_name": "Python 3 (ipykernel)",
   "language": "python",
   "name": "python3"
  },
  "language_info": {
   "codemirror_mode": {
    "name": "ipython",
    "version": 3
   },
   "file_extension": ".py",
   "mimetype": "text/x-python",
   "name": "python",
   "nbconvert_exporter": "python",
   "pygments_lexer": "ipython3",
   "version": "3.9.13"
  },
  "toc": {
   "base_numbering": 1,
   "nav_menu": {},
   "number_sections": true,
   "sideBar": true,
   "skip_h1_title": false,
   "title_cell": "Table of Contents",
   "title_sidebar": "Contents",
   "toc_cell": false,
   "toc_position": {},
   "toc_section_display": true,
   "toc_window_display": false
  },
  "varInspector": {
   "cols": {
    "lenName": 16,
    "lenType": 16,
    "lenVar": 40
   },
   "kernels_config": {
    "python": {
     "delete_cmd_postfix": "",
     "delete_cmd_prefix": "del ",
     "library": "var_list.py",
     "varRefreshCmd": "print(var_dic_list())"
    },
    "r": {
     "delete_cmd_postfix": ") ",
     "delete_cmd_prefix": "rm(",
     "library": "var_list.r",
     "varRefreshCmd": "cat(var_dic_list()) "
    }
   },
   "types_to_exclude": [
    "module",
    "function",
    "builtin_function_or_method",
    "instance",
    "_Feature"
   ],
   "window_display": false
  }
 },
 "nbformat": 4,
 "nbformat_minor": 1
}
